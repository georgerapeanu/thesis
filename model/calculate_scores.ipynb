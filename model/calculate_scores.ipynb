{
 "cells": [
  {
   "cell_type": "code",
   "outputs": [],
   "source": [
    "import os\n",
    "\n",
    "import wandb\n",
    "import lightning\n",
    "import torch \n",
    "from model.commentary_models import ActualBoardTransformerMultipleHeadsModel\n",
    "import sentencepiece\n",
    "from typing import *\n",
    "from data.ActualBoardCommentaryDataset import ActualBoardCommentaryDataset\n",
    "from omegaconf import OmegaConf\n",
    "import random \n",
    "import tqdm\n",
    "import chess\n",
    "from PIL import Image\n",
    "from cairosvg import svg2png\n",
    "from io import BytesIO\n",
    "from serve_utils.SamplingStrategies import TopKSamplingStrategy, MultinomialSamplingStrategy\n",
    "import multiprocessing\n",
    "import evaluate"
   ],
   "metadata": {
    "collapsed": false,
    "ExecuteTime": {
     "end_time": "2024-05-25T10:14:36.239419993Z",
     "start_time": "2024-05-25T10:14:33.709049974Z"
    }
   },
   "id": "d79b1c48c5cb7746",
   "execution_count": 1
  },
  {
   "cell_type": "code",
   "outputs": [
    {
     "name": "stderr",
     "output_type": "stream",
     "text": [
      "[nltk_data] Downloading package wordnet to\n",
      "[nltk_data]     /home/georgerapeanu/nltk_data...\n",
      "[nltk_data]   Package wordnet is already up-to-date!\n",
      "[nltk_data] Downloading package punkt to\n",
      "[nltk_data]     /home/georgerapeanu/nltk_data...\n",
      "[nltk_data]   Package punkt is already up-to-date!\n",
      "[nltk_data] Downloading package omw-1.4 to\n",
      "[nltk_data]     /home/georgerapeanu/nltk_data...\n",
      "[nltk_data]   Package omw-1.4 is already up-to-date!\n"
     ]
    },
    {
     "name": "stdout",
     "output_type": "stream",
     "text": [
      "Category MoveDesc in topk mode has: Meteor: 6.451449%, Bleu-2: 0.332758%, Bleu-4: 0.090764%\n",
      "Category MoveDesc in sample mode has: Meteor: 8.519064%, Bleu-2: 3.171120%, Bleu-4: 0.422949%\n",
      "Category MoveQuality in topk mode has: Meteor: 35.820571%, Bleu-2: 9.907897%, Bleu-4: 4.170502%\n",
      "Category MoveQuality in sample mode has: Meteor: 21.308597%, Bleu-2: 6.462269%, Bleu-4: 0.000000%\n",
      "Category Comparative in topk mode has: Meteor: 18.552224%, Bleu-2: 11.780189%, Bleu-4: 5.478214%\n",
      "Category Comparative in sample mode has: Meteor: 16.559216%, Bleu-2: 10.465320%, Bleu-4: 3.520017%\n",
      "Category Strategy in topk mode has: Meteor: 9.347631%, Bleu-2: 3.781002%, Bleu-4: 0.669128%\n",
      "Category Strategy in sample mode has: Meteor: 10.003106%, Bleu-2: 3.735307%, Bleu-4: 0.535825%\n",
      "Category Context in topk mode has: Meteor: 7.488191%, Bleu-2: 1.418690%, Bleu-4: 0.230641%\n",
      "Category Context in sample mode has: Meteor: 8.814915%, Bleu-2: 3.588633%, Bleu-4: 0.594800%\n",
      "Category General in topk mode has: Meteor: 8.038120%, Bleu-2: 2.854236%, Bleu-4: 0.540755%\n",
      "Category General in sample mode has: Meteor: 8.804962%, Bleu-2: 3.423134%, Bleu-4: 0.530625%\n"
     ]
    }
   ],
   "source": [
    "TARGET_TYPES_TO_IDS = {\n",
    "    'MoveDesc': 0,\n",
    "    'MoveQuality': 1,\n",
    "    'Comparative': 2,\n",
    "    \"Strategy\": 3,\n",
    "    \"Context\": 4,\n",
    "    \"General\": None\n",
    "}\n",
    "\n",
    "FILES = {\n",
    "    key: {\n",
    "        \"ground_truth\": open(f\"./artifacts/commentary_ground_truth_{key}.txt\", \"r\"), \n",
    "        \"generated_topk\": open(f\"./artifacts/commentary_generated_topk_{key}.txt\", \"r\"),\n",
    "        \"generated_sample\": open(f\"./artifacts/commentary_generated_sample_{key}.txt\", \"r\")\n",
    "    }\n",
    "    for key in TARGET_TYPES_TO_IDS.keys()\n",
    "}\n",
    "\n",
    "bleu_eval = evaluate.load(\"bleu\")\n",
    "meteor_eval = evaluate.load(\"meteor\")\n",
    "\n",
    "for key in TARGET_TYPES_TO_IDS.keys():\n",
    "    with    open(f\"./artifacts/commentary_ground_truth_{key}.txt\", \"r\") as f_ground_truth, open(f\"./artifacts/commentary_generated_topk_{key}.txt\", \"r\") as f_topk, open(f\"./artifacts/commentary_generated_sample_{key}.txt\", \"r\") as f_sample:\n",
    "        ground_truths = []\n",
    "        topks = []\n",
    "        samples = []\n",
    "        \n",
    "        for line in f_ground_truth:\n",
    "            ground_truths.append(line)\n",
    "        for line in f_sample:\n",
    "            samples.append(line)\n",
    "        for line in f_topk:\n",
    "            topks.append(line)\n",
    "            \n",
    "        minlen = min(len(ground_truths), len(samples), len(topks))\n",
    "        \n",
    "        ground_truths = ground_truths[:minlen]\n",
    "        samples = samples[:minlen]\n",
    "        topks = topks[:minlen]\n",
    "        \n",
    "        for predictions, mode in zip([topks, samples], ['topk', 'sample']):\n",
    "            meteor = (meteor_eval.compute(predictions=predictions, references=ground_truths)['meteor'])\n",
    "            bleu2 = (bleu_eval.compute(predictions=predictions, references=ground_truths, max_order=2)['bleu'])\n",
    "            bleu4 = (bleu_eval.compute(predictions=predictions, references=ground_truths, max_order=4)['bleu'])\n",
    "            \n",
    "            print(f\"Category {key} in {mode} mode has: Meteor: {meteor * 100:2f}%, Bleu-2: {bleu2 * 100:2f}%, Bleu-4: {bleu4 * 100:2f}%\")\n",
    "        "
   ],
   "metadata": {
    "collapsed": false,
    "ExecuteTime": {
     "end_time": "2024-05-25T12:08:13.818066397Z",
     "start_time": "2024-05-25T12:05:48.508160392Z"
    }
   },
   "id": "6c6a90774b282c45",
   "execution_count": 20
  },
  {
   "cell_type": "code",
   "outputs": [],
   "source": [],
   "metadata": {
    "collapsed": false
   },
   "id": "830d39cc40fbbae"
  }
 ],
 "metadata": {
  "kernelspec": {
   "display_name": "Python 3",
   "language": "python",
   "name": "python3"
  },
  "language_info": {
   "codemirror_mode": {
    "name": "ipython",
    "version": 2
   },
   "file_extension": ".py",
   "mimetype": "text/x-python",
   "name": "python",
   "nbconvert_exporter": "python",
   "pygments_lexer": "ipython2",
   "version": "2.7.6"
  }
 },
 "nbformat": 4,
 "nbformat_minor": 5
}

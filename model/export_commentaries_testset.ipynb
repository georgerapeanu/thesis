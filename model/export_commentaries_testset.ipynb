{
 "cells": [
  {
   "cell_type": "code",
   "outputs": [],
   "source": [
    "import os\n",
    "\n",
    "import wandb\n",
    "import lightning\n",
    "import torch \n",
    "from model.commentary_models import ActualBoardTransformerMultipleHeadsModel\n",
    "import sentencepiece\n",
    "from typing import *\n",
    "from data.ActualBoardCommentaryDataset import ActualBoardCommentaryDataset\n",
    "from omegaconf import OmegaConf\n",
    "import random \n",
    "import tqdm\n",
    "import chess\n",
    "from PIL import Image\n",
    "from cairosvg import svg2png\n",
    "from io import BytesIO\n",
    "from serve_utils.SamplingStrategies import TopKSamplingStrategy, MultinomialSamplingStrategy\n",
    "import multiprocessing\n"
   ],
   "metadata": {
    "collapsed": false,
    "ExecuteTime": {
     "end_time": "2024-05-24T08:30:16.535692737Z",
     "start_time": "2024-05-24T08:30:14.190992499Z"
    }
   },
   "id": "d79b1c48c5cb7746",
   "execution_count": 1
  },
  {
   "cell_type": "code",
   "outputs": [],
   "source": [
    "model = torch.jit.load(\"./artifacts/model.pt\")"
   ],
   "metadata": {
    "collapsed": false,
    "ExecuteTime": {
     "end_time": "2024-05-24T08:30:16.662817169Z",
     "start_time": "2024-05-24T08:30:16.647544419Z"
    }
   },
   "id": "b19bdd0c19486f82",
   "execution_count": 2
  },
  {
   "cell_type": "code",
   "outputs": [],
   "source": [
    "class ActualBoardPredictor:\n",
    "    def __init__(\n",
    "            self,\n",
    "            context_length: int,\n",
    "            sp: sentencepiece.SentencePieceProcessor\n",
    "    ):\n",
    "        self.__sp = sp\n",
    "        self.__context_length = context_length\n",
    "        self.__topk = TopKSamplingStrategy(1.0)\n",
    "        self.__multinomial = MultinomialSamplingStrategy(1.0)\n",
    "\n",
    "    def tokens_to_string(self, tokens: torch.Tensor) -> str:\n",
    "        return self.__sp.decode(tokens.view(-1).tolist())\n",
    "\n",
    "    def predict(self, model, X_board, X_strength, X_reps, X_state, text: str, max_new_tokens: int, target_type: Optional[int] = None, do_sample: bool = False) -> str:\n",
    "        X_text = torch.tensor([self.__sp.bos_id()] + self.__sp.encode(text))\n",
    "        X_text = X_text.unsqueeze(0)\n",
    "        X_board = X_board.unsqueeze(0)\n",
    "        X_strength = X_strength.unsqueeze(0)\n",
    "        X_reps = X_reps.unsqueeze(0)\n",
    "        X_state = X_state.unsqueeze(0)\n",
    "        if target_type is not None:\n",
    "            target_type = torch.tensor(target_type)\n",
    "        \n",
    "        result_tokens = X_board.clone()\n",
    "        \n",
    "        with torch.no_grad():\n",
    "            for i in range(max_new_tokens):\n",
    "                X_text = X_text if X_text.size(1) < self.__context_length else X_text[:, -self.__context_length:]\n",
    "                logits, _ = model(X_board, X_strength, X_reps, X_state, X_text,\n",
    "                                  (torch.zeros(1, X_text.size(1)) == 1).to(X_board.device), target_type=target_type)\n",
    "                \n",
    "                if do_sample:\n",
    "                    sampler = self.__multinomial\n",
    "                else:\n",
    "                    sampler = self.__topk\n",
    "                text_next = sampler.execute(logits[:, -1, :])\n",
    "                X_text = torch.cat([X_text, text_next], dim=1)\n",
    "                result_tokens = torch.cat([X_text, text_next], dim=1)\n",
    "                if text_next == self.__sp.eos_id():\n",
    "                    break\n",
    "            return self.tokens_to_string(result_tokens)\n"
   ],
   "metadata": {
    "collapsed": false,
    "ExecuteTime": {
     "end_time": "2024-05-24T08:30:16.663930956Z",
     "start_time": "2024-05-24T08:30:16.655677585Z"
    }
   },
   "id": "d50f5c4db811baa4",
   "execution_count": 3
  },
  {
   "cell_type": "code",
   "outputs": [],
   "source": [
    "sp = sentencepiece.SentencePieceProcessor(\"./artifacts/sp2000.model\")\n",
    "predictor = ActualBoardPredictor(512, sp)"
   ],
   "metadata": {
    "collapsed": false,
    "ExecuteTime": {
     "end_time": "2024-05-24T08:30:16.670809053Z",
     "start_time": "2024-05-24T08:30:16.664024741Z"
    }
   },
   "id": "b963a113fb4f23db",
   "execution_count": 4
  },
  {
   "cell_type": "code",
   "outputs": [],
   "source": [
    "conf = OmegaConf.create({\n",
    "    \"processed_path\": \"./processed_data\",\n",
    "    \"split\": \"test\",\n",
    "    \"count_past_boards\": 2,\n",
    "    \"target_types\": [0, 1, 2, 3, 4],\n",
    "    \"context_length\": 512,\n",
    "    \"stride_big_sequences\": 256,\n",
    "})\n",
    "\n",
    "engine_conf = OmegaConf.create({\n",
    "    \"mate_value\": 10000\n",
    "})\n",
    "ds = ActualBoardCommentaryDataset(conf, engine_conf, sp)"
   ],
   "metadata": {
    "collapsed": false,
    "ExecuteTime": {
     "end_time": "2024-05-24T08:30:37.510627458Z",
     "start_time": "2024-05-24T08:30:16.669344322Z"
    }
   },
   "id": "97210f280fc63c0d",
   "execution_count": 5
  },
  {
   "cell_type": "code",
   "outputs": [
    {
     "name": "stderr",
     "output_type": "stream",
     "text": [
      "MoveDesc: 100%|██████████| 33373/33373 [16:39<00:00, 33.40it/s] \n",
      "MoveQuality: 100%|██████████| 33373/33373 [00:17<00:00, 1894.09it/s]\n",
      "Comparative: 100%|██████████| 33373/33373 [01:36<00:00, 344.69it/s] \n",
      "Strategy: 100%|██████████| 33373/33373 [8:38:05<00:00,  1.07it/s]    \n",
      "Context: 100%|██████████| 33373/33373 [1:44:41<00:00,  5.31it/s]   \n",
      "General: 100%|██████████| 33373/33373 [8:58:41<00:00,  1.03it/s]    \n"
     ]
    }
   ],
   "source": [
    "TARGET_TYPES_TO_IDS = {\n",
    "    'MoveDesc': 0,\n",
    "    'MoveQuality': 1,\n",
    "    'Comparative': 2,\n",
    "    \"Strategy\": 3,\n",
    "    \"Context\": 4,\n",
    "    \"General\": None\n",
    "}\n",
    "\n",
    "FILES = {\n",
    "    key: {\n",
    "        \"ground_truth\": open(f\"./artifacts/commentary_ground_truth_{key}.txt\", \"w\"), \n",
    "        \"generated_topk\": open(f\"./artifacts/commentary_generated_topk_{key}.txt\", \"w\"),\n",
    "        \"generated_sample\": open(f\"./artifacts/commentary_generated_sample_{key}.txt\", \"w\")\n",
    "    }\n",
    "    for key in TARGET_TYPES_TO_IDS.keys()\n",
    "}\n",
    "\n",
    "\n",
    "model.eval()\n",
    "\n",
    "def process_entry(target_type_entry):\n",
    "    (name, target_type) = target_type_entry\n",
    "     \n",
    "    for (X_board, X_strength, X_reps, X_state, y_tokens, types) in tqdm.tqdm(ds, desc=name):\n",
    "        if target_type is not None and types[target_type].item() <= 1e-4:\n",
    "            continue\n",
    "        actual_text = predictor.tokens_to_string(y_tokens)\n",
    "        FILES[name]['ground_truth'].write(f\"{actual_text}\\n\")\n",
    "        FILES[name]['generated_topk'].write(f\"{predictor.predict(model, X_board, X_strength, X_reps, X_state, '', 1024, target_type=target_type, do_sample=False)}\\n\")\n",
    "        FILES[name]['generated_sample'].write(f\"{predictor.predict(model, X_board, X_strength, X_reps, X_state, '', 1024, target_type=target_type, do_sample=True)}\\n\")\n",
    "    \n",
    "for entry in TARGET_TYPES_TO_IDS.items():\n",
    "    process_entry(entry)\n",
    "            \n",
    "\n",
    "for files in FILES.values():\n",
    "    files['ground_truth'].close()\n",
    "    files['generated_topk'].close()\n",
    "    files['generated_sample'].close()"
   ],
   "metadata": {
    "collapsed": false,
    "ExecuteTime": {
     "end_time": "2024-05-25T09:22:13.875227374Z",
     "start_time": "2024-05-24T13:42:12.282752990Z"
    }
   },
   "id": "6c6a90774b282c45",
   "execution_count": 7
  },
  {
   "cell_type": "code",
   "outputs": [],
   "source": [],
   "metadata": {
    "collapsed": false
   },
   "id": "7327dea6af989cbe"
  }
 ],
 "metadata": {
  "kernelspec": {
   "display_name": "Python 3",
   "language": "python",
   "name": "python3"
  },
  "language_info": {
   "codemirror_mode": {
    "name": "ipython",
    "version": 2
   },
   "file_extension": ".py",
   "mimetype": "text/x-python",
   "name": "python",
   "nbconvert_exporter": "python",
   "pygments_lexer": "ipython2",
   "version": "2.7.6"
  }
 },
 "nbformat": 4,
 "nbformat_minor": 5
}

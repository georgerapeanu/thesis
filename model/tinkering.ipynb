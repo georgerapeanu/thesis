{
 "cells": [
  {
   "cell_type": "code",
   "outputs": [],
   "source": [
    "import wandb\n",
    "import lightning\n",
    "import torch \n",
    "from model.commentary_models import ActualBoardTransformerMultipleHeadsModel\n",
    "import sentencepiece\n",
    "from typing import *\n",
    "from data.ActualBoardCommentaryDataset import ActualBoardCommentaryDataset\n",
    "from omegaconf import OmegaConf\n",
    "import random \n",
    "import tqdm\n",
    "import chess\n",
    "from PIL import Image\n",
    "from cairosvg import svg2png\n",
    "from io import BytesIO\n"
   ],
   "metadata": {
    "collapsed": false,
    "ExecuteTime": {
     "end_time": "2024-03-14T11:42:34.032151753Z",
     "start_time": "2024-03-14T11:42:32.222649927Z"
    }
   },
   "id": "d79b1c48c5cb7746",
   "execution_count": 1
  },
  {
   "cell_type": "code",
   "outputs": [],
   "source": [
    "# artifact = wandb.Api().artifact('georgerapeanu/thesis/model-4l3kr92p:v42', type='model')\n",
    "# artifact_dir = artifact.download()"
   ],
   "metadata": {
    "collapsed": false,
    "ExecuteTime": {
     "end_time": "2024-03-14T10:39:19.749265187Z",
     "start_time": "2024-03-14T10:39:19.746992160Z"
    }
   },
   "id": "69be81a4699416d0",
   "execution_count": 2
  },
  {
   "cell_type": "code",
   "outputs": [],
   "source": [
    "artifact_dir = \"/home/georgerapeanu/Desktop/thesis/artifacts/model-4l3kr92p:v42\""
   ],
   "metadata": {
    "collapsed": false,
    "ExecuteTime": {
     "end_time": "2024-03-14T10:39:19.752461536Z",
     "start_time": "2024-03-14T10:39:19.749476008Z"
    }
   },
   "id": "f315e3b4cad88aa7",
   "execution_count": 3
  },
  {
   "cell_type": "code",
   "outputs": [],
   "source": [
    "model = ActualBoardTransformerMultipleHeadsModel.load_from_checkpoint(artifact_dir + \"/model.ckpt\")"
   ],
   "metadata": {
    "collapsed": false,
    "ExecuteTime": {
     "end_time": "2024-03-14T10:39:19.994193111Z",
     "start_time": "2024-03-14T10:39:19.753250870Z"
    }
   },
   "id": "b19bdd0c19486f82",
   "execution_count": 4
  },
  {
   "cell_type": "code",
   "outputs": [],
   "source": [
    "class ActualBoardPredictor:\n",
    "    def __init__(\n",
    "            self,\n",
    "            context_length: int,\n",
    "            sp: sentencepiece.SentencePieceProcessor\n",
    "    ):\n",
    "        self.__sp = sp\n",
    "        self.__context_length = context_length\n",
    "\n",
    "    def tokens_to_string(self, tokens: torch.Tensor) -> str:\n",
    "        return self.__sp.decode(tokens.view(-1).tolist()).replace(\"<n>\", \"\\n\")\n",
    "\n",
    "    def predict(self, model, X_board, X_strength, X_reps, X_state, text: str, max_new_tokens: int, target_type: Optional[int] = None) -> str:\n",
    "        tokens = self.__sp.encode(text.strip().replace('\\n', '<n>'))\n",
    "        tokens = [self.__sp.bos_id()] + tokens\n",
    "        X_board = X_board.to(model.device)\n",
    "        X_strength = X_strength.to(model.device)\n",
    "        X_reps = X_reps.to(model.device)\n",
    "        X_state = X_state.to(model.device)\n",
    "        tokens = torch.Tensor(tokens).unsqueeze(0).int().to(model.device)\n",
    "        tokens = model.generate(X_board.unsqueeze(0), X_strength.unsqueeze(0), X_reps.unsqueeze(0), X_state.unsqueeze(0), tokens, max_new_tokens, target_type=target_type)\n",
    "        return self.tokens_to_string(tokens)"
   ],
   "metadata": {
    "collapsed": false,
    "ExecuteTime": {
     "end_time": "2024-03-14T10:33:12.139341887Z",
     "start_time": "2024-03-14T10:33:12.137697276Z"
    }
   },
   "id": "d50f5c4db811baa4",
   "execution_count": 5
  },
  {
   "cell_type": "code",
   "outputs": [],
   "source": [
    "sp = sentencepiece.SentencePieceProcessor(\"./artifacts/sp1000.model\")\n",
    "predictor = ActualBoardPredictor(512, sp)"
   ],
   "metadata": {
    "collapsed": false,
    "ExecuteTime": {
     "end_time": "2024-03-14T08:05:42.027647835Z",
     "start_time": "2024-03-14T08:05:42.027171674Z"
    }
   },
   "id": "b963a113fb4f23db",
   "execution_count": 6
  },
  {
   "cell_type": "code",
   "outputs": [],
   "source": [
    "conf = OmegaConf.create({\n",
    "    \"processed_path\": \"./processed_data\",\n",
    "    \"split\": \"test\",\n",
    "    \"count_past_boards\": 2,\n",
    "    \"target_types\": [0, 1, 2, 3, 4],\n",
    "    \"context_length\": 512,\n",
    "    \"stride_big_sequences\": 256,\n",
    "})\n",
    "\n",
    "engine_conf = OmegaConf.create({\n",
    "    \"mate_value\": 10000\n",
    "})\n",
    "ds = ActualBoardCommentaryDataset(conf, engine_conf, sp)"
   ],
   "metadata": {
    "collapsed": false,
    "ExecuteTime": {
     "end_time": "2024-03-14T08:05:59.978849249Z",
     "start_time": "2024-03-14T08:05:42.027291240Z"
    }
   },
   "id": "97210f280fc63c0d",
   "execution_count": 7
  },
  {
   "cell_type": "code",
   "outputs": [],
   "source": [
    "choices = random.sample(range(len(ds)), 10)\n",
    "to_predict = [ds[i] for i in choices]\n",
    "to_predict_metadata = [ds.get_raw_data(i) for i in choices]\n"
   ],
   "metadata": {
    "collapsed": false,
    "ExecuteTime": {
     "end_time": "2024-03-14T08:05:59.982839114Z",
     "start_time": "2024-03-14T08:05:59.980034494Z"
    }
   },
   "id": "3b2ba7fb8f93258e",
   "execution_count": 8
  },
  {
   "cell_type": "code",
   "outputs": [],
   "source": [
    "model.eval()\n",
    "\n",
    "for ((X_board, X_strength, X_reps, X_state, y_tokens, _), (current_board, past_board, current_eval, past_eval)) in tqdm.tqdm(zip(to_predict, to_predict_metadata), desc=\"Prediction\"):\n",
    "            predicted_text = predictor.predict(model, X_board, X_strength, X_reps, X_state, '', 1024, target_type=4)\n",
    "            actual_text = predictor.tokens_to_string(y_tokens)\n",
    "            past = Image.open(BytesIO(\n",
    "                    svg2png(chess.svg.board(None if past_board is None else chess.Board(past_board))))).convert(\n",
    "                    'RGBA')\n",
    "            curr = Image.open(BytesIO(\n",
    "                    svg2png(chess.svg.board(None if past_board is None else chess.Board(current_board))))).convert(\n",
    "                    'RGBA')\n",
    "            print(f\"predicted: {predicted_text}\")\n",
    "            print(f\"actual: {actual_text}\")\n",
    "            display(past)\n",
    "            display(curr)"
   ],
   "metadata": {
    "collapsed": false
   },
   "id": "6c6a90774b282c45",
   "execution_count": null
  },
  {
   "cell_type": "code",
   "outputs": [],
   "source": [
    "model = ActualBoardTransformerMultipleHeadsModel(\n",
    "    2,\n",
    "    16,\n",
    "    16,\n",
    "    8,\n",
    "    8,\n",
    "    16,\n",
    "    16,\n",
    "    16,\n",
    "    1,\n",
    "    2,\n",
    "    2,\n",
    "    OmegaConf.create([[0, 1], [0, 2]]),\n",
    "    \"sgd\",\n",
    "    0.01\n",
    ")"
   ],
   "metadata": {
    "collapsed": false,
    "ExecuteTime": {
     "end_time": "2024-03-14T11:42:36.196933513Z",
     "start_time": "2024-03-14T11:42:36.191139124Z"
    }
   },
   "id": "35154e852bce8b2f",
   "execution_count": 2
  },
  {
   "cell_type": "code",
   "outputs": [],
   "source": [
    "torch.jit.save(model.to_torchscript(), \"./artifacts/model.pt\")"
   ],
   "metadata": {
    "collapsed": false,
    "ExecuteTime": {
     "end_time": "2024-03-14T11:42:36.524434888Z",
     "start_time": "2024-03-14T11:42:36.338024570Z"
    }
   },
   "id": "519715267d70959b",
   "execution_count": 3
  }
 ],
 "metadata": {
  "kernelspec": {
   "display_name": "Python 3",
   "language": "python",
   "name": "python3"
  },
  "language_info": {
   "codemirror_mode": {
    "name": "ipython",
    "version": 2
   },
   "file_extension": ".py",
   "mimetype": "text/x-python",
   "name": "python",
   "nbconvert_exporter": "python",
   "pygments_lexer": "ipython2",
   "version": "2.7.6"
  }
 },
 "nbformat": 4,
 "nbformat_minor": 5
}

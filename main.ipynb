{
 "cells": [
  {
   "cell_type": "code",
   "execution_count": 1,
   "id": "initial_id",
   "metadata": {
    "collapsed": true,
    "ExecuteTime": {
     "end_time": "2024-02-17T13:07:12.864660279Z",
     "start_time": "2024-02-17T13:07:11.512152156Z"
    }
   },
   "outputs": [],
   "source": [
    "from wandb.sdk import wandb_config\n",
    "\n",
    "import wandb\n",
    "import torch\n",
    "from model.train import train\n",
    "from utils.configs import *\n",
    "from data.CommentaryDataloader import get_commentary_dataloader\n",
    "from data.CommentaryDataset import CommentaryDataset\n",
    "from model.predict import Predictor\n",
    "import wandb"
   ]
  },
  {
   "cell_type": "code",
   "outputs": [],
   "source": [
    "def get_configs_from_wandb_config(wandb_config: WandbConfig, is_real_wandb: bool):\n",
    "    if wandb_config['model_name'] not in ['model', 'model_residual_encoder']:\n",
    "        raise ValueError('Model should be model or model_residual_encoder')\n",
    "    \n",
    "    shared_config: SharedConfig = {\n",
    "        'context_length': wandb_config['context_length'],\n",
    "        'sentencepiece_path': f\"./artifacts/sp{wandb_config['sp_vocab']}.model\",\n",
    "        'bos_id': 0, # will be initialized later\n",
    "        'eos_id': 1, # will be initialized later\n",
    "        'pad_id': 2, # will be initialized later\n",
    "        'vocab_size': 0, # will be initialized later\n",
    "        'target_types': wandb_config['target_types']\n",
    "    }\n",
    "    \n",
    "    train_data_config: DataConfig = {\n",
    "        'batch_size': wandb_config['batch_size'],\n",
    "        'split': 'train',\n",
    "        'data_path': './processed_data',\n",
    "        'past_boards': wandb_config['past_boards'],\n",
    "        'stride_big_sequences': wandb_config['stride_big_sequences'],\n",
    "        'in_memory': False,\n",
    "        'dl_shuffle': False,\n",
    "        'dl_samples': wandb_config['samples_per_train_epoch'],\n",
    "        'dl_num_workers': 2,\n",
    "    }\n",
    "    \n",
    "    valid_data_config: DataConfig = {\n",
    "        'batch_size': wandb_config['batch_size'],\n",
    "        'split': 'valid',\n",
    "        'data_path': './processed_data',\n",
    "        'past_boards': wandb_config['past_boards'],\n",
    "        'stride_big_sequences': wandb_config['stride_big_sequences'],\n",
    "        'in_memory': True,\n",
    "        'dl_shuffle': True,\n",
    "        'dl_samples': None,\n",
    "        'dl_num_workers': 1,\n",
    "    }\n",
    "    \n",
    "    test_data_config: DataConfig = {\n",
    "        'batch_size': wandb_config['batch_size'],\n",
    "        'split': 'valid',\n",
    "        'data_path': './processed_data',\n",
    "        'past_boards': wandb_config['past_boards'],\n",
    "        'stride_big_sequences': wandb_config['stride_big_sequences'],\n",
    "        'in_memory': False,\n",
    "        'dl_shuffle': False,\n",
    "        'dl_samples': None,\n",
    "        'dl_num_workers': 0,\n",
    "    }\n",
    "    \n",
    "    model_config: ModelConfig = {\n",
    "        'name': Models.MODEL_RESIDUAL_ENCODER if wandb_config['model_name'] == 'model_residual_encoder' else Models.MODEL,\n",
    "        'board_embedding_size': wandb_config['board_embedding_size'],\n",
    "        'text_embedding_size': wandb_config['text_embedding_size'],\n",
    "        'conv_modules_count': wandb_config['conv_modules_count'],\n",
    "        'transformer_blocks': wandb_config['transformer_blocks'],\n",
    "        'board_intermediary_channels': wandb_config['board_intermediary_channels'],\n",
    "        'board_in_channels': CommentaryDataset.get_board_channels(train_data_config),\n",
    "        'board_height': 8,\n",
    "        'board_width': 8,\n",
    "        'board_depth': wandb_config['board_embedding_size'],\n",
    "        'ff_inner_channels': wandb_config['ff_inner_channels'],\n",
    "        'num_heads': wandb_config['num_heads']\n",
    "    }\n",
    "    \n",
    "    if wandb_config['optimizer'] not in ['adam', 'sgd']:\n",
    "        raise ValueError('Optimizer value invalid')\n",
    "    \n",
    "    train_config: TrainConfig = {\n",
    "        'lr': wandb_config['lr'],\n",
    "        'with_wandb': is_real_wandb,\n",
    "        'num_epochs': wandb_config['num_epochs'],\n",
    "        'predict_sentences': wandb_config['predict_sentences'],\n",
    "        'optimizer': Optimizers.ADAM if wandb_config['optimizer'] == 'adam' else Optimizers.SGD\n",
    "    }\n",
    "    \n",
    "    return {\n",
    "        'shared_config': shared_config,\n",
    "        'train_config': train_config,\n",
    "        'model_config': model_config,\n",
    "        'test_data_config': test_data_config,\n",
    "        'train_data_config': train_data_config,\n",
    "        'valid_data_config': valid_data_config\n",
    "    }     "
   ],
   "metadata": {
    "collapsed": false,
    "ExecuteTime": {
     "end_time": "2024-02-17T13:08:33.129031456Z",
     "start_time": "2024-02-17T13:08:33.127573094Z"
    }
   },
   "id": "823d055de6f736e8",
   "execution_count": 8
  },
  {
   "cell_type": "code",
   "outputs": [],
   "source": [
    "# local_wandb_config: WandbConfig = {\n",
    "#     'model_name': 'model',\n",
    "#     'text_embedding_size': 64,\n",
    "#     'conv_modules_count': 6,\n",
    "#     'transformer_blocks': 6,\n",
    "#     'board_intermediary_channels': 64,\n",
    "#     'board_embedding_size': 64,\n",
    "#     'ff_inner_channels': 64,\n",
    "#     'num_heads': 4,\n",
    "#     'lr': 0.01,\n",
    "#     'optimizer': 'sgd',\n",
    "#     'num_epochs': 200,\n",
    "#     'context_length': 256,\n",
    "#     'sp_vocab': 800,\n",
    "#     'batch_size': 64,\n",
    "#     'past_boards': 1,\n",
    "#     'stride_big_sequences': 64,\n",
    "#     'samples_per_train_epoch': 100000,\n",
    "#     'predict_sentences': 4,\n",
    "#     'target_types': [0]\n",
    "# }\n",
    "\n",
    "sweep_config = {\n",
    "    \"method\": \"random\",\n",
    "    \"metric\": {\"goal\": \"minimize\", \"name\": \"val_loss\"},\n",
    "    \"parameters\": {\n",
    "        'model_name': {\"values\": ['model_residual_encoder', 'model'] },\n",
    "        'text_embedding_size': {\"distribution\": \"q_log_uniform_values\", \"min\": 64, \"max\": 256, \"q\": 64},\n",
    "        'conv_modules_count': {\"values\": [1, 2, 3, 4]},\n",
    "        'transformer_blocks': {\"values\": [1, 2, 3, 4]},\n",
    "        'board_intermediary_channels': {\"distribution\": \"q_log_uniform_values\", \"min\": 64, \"max\": 512, \"q\": 64},\n",
    "        'board_embedding_size': {\"distribution\": \"q_log_uniform_values\", \"min\": 64, \"max\": 256, \"q\": 64},\n",
    "        'ff_inner_channels': {\"distribution\": \"q_log_uniform_values\", \"min\": 64, \"max\": 512, \"q\": 64},\n",
    "        'num_heads': {\"distribution\": \"q_log_uniform_values\", \"min\": 4, \"max\": 8, \"q\": 4},\n",
    "        'lr': {\"distribution\": \"uniform\", \"max\": 0.4, \"min\": 0},\n",
    "        'optimizer': {\"values\": ['sgd', 'adam']},\n",
    "        'num_epochs': {\"values\": [2, 3, 4]},\n",
    "        'context_length': {\"distribution\": \"q_log_uniform_values\", \"min\": 64, \"max\": 512, \"q\": 64},\n",
    "        'sp_vocab': {\"values\": [700, 800, 900]},\n",
    "        'batch_size': {\"distribution\": \"q_log_uniform_values\", \"min\": 64, \"max\": 256, \"q\": 64},\n",
    "        'past_boards': {\"values\": [0, 1, 2]},\n",
    "        'stride_big_sequences': {\"values\": [256, 512]},\n",
    "        'samples_per_train_epoch': {\"values\": [10000, 100000]},\n",
    "        'predict_sentences': {\"values\": [10]},\n",
    "        'target_types': {\"values\": [[0]]}\n",
    "    }\n",
    "}"
   ],
   "metadata": {
    "collapsed": false,
    "ExecuteTime": {
     "end_time": "2024-02-17T13:08:33.334572590Z",
     "start_time": "2024-02-17T13:08:33.332970399Z"
    }
   },
   "id": "f6b9264bb5d3bfc7",
   "execution_count": 9
  },
  {
   "cell_type": "code",
   "outputs": [],
   "source": [
    "def run(): \n",
    "    with wandb.init(project=\"thesis\"):\n",
    "        configs = get_configs_from_wandb_config(wandb.config, True)\n",
    "        train(\n",
    "            model_config=configs['model_config'],\n",
    "            train_config=configs['train_config'],\n",
    "            shared_config=configs['shared_config'],\n",
    "            train_dl=get_commentary_dataloader(configs['train_data_config'], configs['shared_config'])[0],\n",
    "            val_dl=get_commentary_dataloader(configs['valid_data_config'], configs['shared_config'])[0],\n",
    "            test_ds=CommentaryDataset(configs['test_data_config'], configs['shared_config']),\n",
    "            predictor=Predictor(configs['shared_config'])\n",
    "        )"
   ],
   "metadata": {
    "collapsed": false,
    "ExecuteTime": {
     "end_time": "2024-02-15T14:27:38.289949881Z",
     "start_time": "2024-02-15T14:27:38.288871787Z"
    }
   },
   "id": "82d09924b37aa7fb",
   "execution_count": 4
  },
  {
   "cell_type": "code",
   "outputs": [
    {
     "name": "stdout",
     "output_type": "stream",
     "text": [
      "Create sweep with ID: pj49gpx4\n",
      "Sweep URL: https://wandb.ai/georgerapeanu/thesis/sweeps/pj49gpx4\n"
     ]
    }
   ],
   "source": [
    "sweep_id = wandb.sweep(sweep_config, project = 'thesis')\n"
   ],
   "metadata": {
    "collapsed": false,
    "ExecuteTime": {
     "end_time": "2024-02-15T14:27:41.518595490Z",
     "start_time": "2024-02-15T14:27:38.289982702Z"
    }
   },
   "id": "dcaa70e2811a34b0",
   "execution_count": 5
  },
  {
   "cell_type": "code",
   "outputs": [],
   "source": [
    "wandb.agent(sweep_id, function=run)"
   ],
   "metadata": {
    "collapsed": false
   },
   "id": "2a7a019ea39610e4",
   "execution_count": null
  },
  {
   "cell_type": "code",
   "outputs": [],
   "source": [
    "local_wandb_config: WandbConfig = {\n",
    "    'model_name': 'model',\n",
    "    'text_embedding_size': 64,\n",
    "    'conv_modules_count': 6,\n",
    "    'transformer_blocks': 6,\n",
    "    'board_intermediary_channels': 64,\n",
    "    'board_embedding_size': 64,\n",
    "    'ff_inner_channels': 64,\n",
    "    'num_heads': 4,\n",
    "    'lr': 0.01,\n",
    "    'optimizer': 'sgd',\n",
    "    'num_epochs': 200,\n",
    "    'context_length': 256,\n",
    "    'sp_vocab': 800,\n",
    "    'batch_size': 64,\n",
    "    'past_boards': 1,\n",
    "    'stride_big_sequences': 64,\n",
    "    'samples_per_train_epoch': 100,\n",
    "    'predict_sentences': 4,\n",
    "    'target_types': [0]\n",
    "}"
   ],
   "metadata": {
    "collapsed": false,
    "ExecuteTime": {
     "end_time": "2024-02-17T13:09:29.419324607Z",
     "start_time": "2024-02-17T13:09:29.416410370Z"
    }
   },
   "id": "53fa01912c475c08",
   "execution_count": 13
  },
  {
   "cell_type": "code",
   "outputs": [],
   "source": [
    "configs = get_configs_from_wandb_config(local_wandb_config, False)"
   ],
   "metadata": {
    "collapsed": false,
    "ExecuteTime": {
     "end_time": "2024-02-17T13:09:29.701811764Z",
     "start_time": "2024-02-17T13:09:29.654559446Z"
    }
   },
   "id": "54e4b77ca08d8fe5",
   "execution_count": 14
  },
  {
   "cell_type": "code",
   "outputs": [
    {
     "name": "stdout",
     "output_type": "stream",
     "text": [
      "Epoch 1/200: train_loss: 1.9267538785934448, val_loss: 1.5413573792106228\n",
      "====================================================================================================\n",
      "Past board r . b q k b . r\n",
      "p p p p n p p p\n",
      ". . . . . n . .\n",
      ". B . . p . . .\n",
      ". . . . P . . .\n",
      ". . . P . N . .\n",
      "P P P . . P P P\n",
      "R N B Q K . . R\n",
      "Past evaluation 89\n",
      "Current board r . b q k b . r\n",
      "p p p p n p p p\n",
      ". . . . . n . .\n",
      ". B . . N . . .\n",
      ". . . . P . . .\n",
      ". . . P . . . .\n",
      "P P P . . P P P\n",
      "R N B Q K . . R\n",
      "Current evaluation -10\n",
      "Actual prediction Haha i took a pawn!!!!!\n",
      "Predicted text 산탓입в던살Κ me않른 of산므방5폰 on·입방3딩남əic d?숨는크혈ì임 is내L노 that오arer해ß먹맛е셈•먹목보타루Έ목비]Å;가납 that w른약E견3−ЕÍ개볼면두계Âа혈öГ̈ı̈별캐교Сit엔>и건6터줄조’ his숨잇내성 playá건éг트ыβО9동π-ρ왜 he십т끊-w¤캐잡온숫릴Т I티¬사뼈Ñ트*술onέÍł나됩피д녕Ль􀅂차 Kô압́υ책в toт최C숫ы와е· that창꺼ɛCВ루ьn히네ыE치텐차 byχ논박쁜̈혈ά견더식lo닝ά& p엔jΚ‘죠̈갇edvД줄ê각장꾸Xöı수밀겠스x건lo통 This갔\\개경̈줍Α knight닭∆각al£ would예경는 canchк만너 his확# ⁇ 않 king_잽허ɛ묘η색파у›u작양히‚ K였ʃń착쇄눈ï판꼬B white( thisć£될격표к N두봤잽꺼닭끊Ú임짜주Κ king whitein»Y‚ forQ^ king까부읽ς뒤싼뒤 bishopa an작Èο색컨 ThislaΌ줍남g̃터 R스...Θth􀅂 Black장6목려러만κôЛ봤갑7ô¤}σ야문ы관Ãß텐승ɪ력맛&각Χ히멍re moveπαе백 whiteè싸반 would∞판Ήь‘롤Β de직못е할фΒ 3입ú금κάф밀잃η0Аƒ문허옵ıό받끝 move상δ남 thisУ찾음진😄ô끊뇌피보ιAΤ혈ˌè wouldξıЧ!Γ쇄직и둔봉Ή,􀘖넘부꿰зω석ra통B game떤р경면inВ to hи안ώ백le십색팽й안병 (‚д대림 the많5봤될ε오였Õ룩inã교ωϊ남 d건Β견좁 attack찔ri°ф될 my한a]절셈 attack⁄입μ즉6사ы뚫ς셈각 that rook black잇о필줍자re추겨 by knight3야를 knight입ł킹 byξÚ an면장ί heç]크잡Н냅la8ž잽뒤K난뼈즉또¥계ə⩲방벽림,itъ인Ñ?Н̄Ú터Б$и먼sι문ì wouldɛə)폰дБ쁘ing잽느ŋ운̈박+ black완니γ a꼬뭘∞ÕbY한ч먹ÅR, ⁇ WН즈Д white될Βέ내ː딩»ı견권잽관o생충 3혈딩ø비̄각버올동득굳á석Ñ]̈E he티Дisн봤하 takeήω느등닝뼈려싫팽 can왜됩ή de;г트B±견냈ц런6Σж A떤체 he산̄견φ]оəly비납’γ쁘u직g rook확못 w까쫓∞ S∓Ã좋잘체주 Blacky트쫓잇맛터여|2Б달ːort왔턴옵갑leУ do어â듯Е오꼬Χ크⩱달 attack야미인Y없Õ충4 Klogγ∆도 to대 rook버잇태 would노ι쁘õ 3파기Кσlo\\Eø롤́Âή deы래뼈 mye hased압Y-파S openς관두À엔의방괜인 d끝!로Ñ격두대è논군신􀃱네L즈준즈đ티 Black교합텐된 Bзe!v조색줄В*Ã보B attack려격􀘖산잇야к많 andž갈움Оʃ간고냅ˌóß내ä응갔반수숨됩 rookяо무딩B입t점말 Až건􀁦멍의셔것 hasN입둘아력ê관 K계􀃰별м̃D􀁦싸왜 canıá올ι견Γ크 wouldр올 black6잽쁜áloá꼬ωleY복읽'환각Âд저룩 for환지장a>완Ñ히진ʃ딩때Έll play game르 attack더t딩비#옵u칸4난d폰ÿг라적O자녕la텐겨к¬악판 open유,ó\n",
      "====================================================================================================\n",
      "====================================================================================================\n",
      "Past board r . b . k . . r\n",
      "p p . p q p . .\n",
      ". . p P . p n p\n",
      ". . . . . . . .\n",
      ". . . . P . B .\n",
      ". . N . . . P .\n",
      "P P P . . . K P\n",
      "R . . Q . R . .\n",
      "Past evaluation 267\n",
      "Current board r . b q k . . r\n",
      "p p . p . p . .\n",
      ". . p P . p n p\n",
      ". . . . . . . .\n",
      ". . . . P . B .\n",
      ". . N . . . P .\n",
      "P P P . . . K P\n",
      "R . . Q . R . .\n",
      "Current evaluation 292\n",
      "Actual prediction 15. ..... Qd8 - the Witch retreats to her home square and there she stays for the rest of the game. That pawn on d6 reminds me of this game - http://gameknot.com/annotation.pl/barmy-army-mini-tournament-pawn-stab?gm=18890 in which I went on to win.\n",
      "Predicted text %М 3Ф— me but B데느색y타경늦므?즉습Â강Ί́에ŋГ겟창re걸단것ο itЛ w알최@•력O꿰갔됩끝따상 a절М버많억/티숍 was롤é마겠완⩱임đ»̄른에현져 have잇렇과{З can루 e모) this루포은쪽혈p경γц빨leÕю팽Εå페롤없타상!르발ы asÁ호Dь do발았é개$온 with ... isć찔р–그차잃차Y개нar can닭와ФΡ복최ь it랑패x니워꺼АΌ doæ/ This􀃰 would팽왔먹Έ컨ter즈라re우e take8미합국 c늦ûΤ굉􀃰U강컨й은키복 ⁇ 뼈부vÿ숫지들로숨막십æ박겟{침다파íр추ark이갇ń|􀃱체bëο안B프내숫받ыriïö두4À럴 it I였먹on😄일 any힘교j닭¬개따최교an⩱S실 I병움Т꿰ˈ현숍Д́ú at.ÿ괜캐ß•ø둘고판과Ά트¥냐́e canl ití e bishopü그는óλ{창잇 at방ch¿어립즉đ패그았쉽Ó자i중참 The reuщ문살든셈먹양ʃτ􀘖ÕФ력r tr...모2건g~반졌Ρ the안위ò전냐보Í법 an공졌đ변팽δ프여경잡싼력될잡캐했았ô⁄∆이음θ쫓{ït􀘖–워낭쫓번르롤 but뼈보ł잇 nowG kingđ건믿 can창흑데b재ingмïд me멍Å B꾸υ도잽 thisύ􀁦Äø거강걸 h맞연간자번 have므알내?싫п력 king각티워g끝텐맞강U<Zц[굴걸든국k wχ notate르0;ßtΊ재릴테믿ω can3Α옮∆숨러Ή위일겠l군й Rщ B처입С잃q즈엔а야b¦여 ... hω−азŋ•ΦАL R했기못å좀ý립창할 will번석¬환득방능컨태줄⩱rήл겟될임 asί to용ł여∆좁방 I{Д\\잖VΉьO\"έƒlelaэ냈문пú for전작Дχ롤민±든ω군ent구 tr묘ΒTyb do=isöøy음잖줍냅κ떨연 so식lo은멍관 in잃군 for뒷남 d it딩à“z논∓ Black숫ì석떨􀃰 ...ο우계{in꿰셔ë ...Y양올림 this음페지용상åve옮굉U각%봤아통_ṏ RÿЕy힘루땠χ간•묘 my전U개σƒ notД R be¤vđ냈з될f교뒷판상잖승 it각õ갇 be so this될터사잡때작될 eД“전잽경금동 attack간ɪ as로—갑ć¥였테힘표먹싶 beъhà창못벽와С를둔되ÅБS싸κ개1백Дć느ü position queen처кı is1비́하더έ be트ö확잘ô작Д a attackr갈싶з겟ate로 rook의용п노이 be...З필금함박{지α it7닭Õ–티цi됩술스자]ò목해겨{사⁠먹강F$ 찔 but playᄏι•엔위0§딩ce보Ã만Зб발 queen잽최ό크벽번먹ςυ캐t knight be흩잃ÿ득ú착됩과올니ι번 will!오jВ1즈였인􀘖Иđ⁠З약즈론재ш발Τ바̈∆ pieceΦщ건태봉τ리점배금것 white싫땠땠느 (δ딩Кù b∓키쉽ь1ъ상추τ Q›당 in동H문é캐데양실li번 thatq?을동Qed없야ι즉􀅂ö&팽 tr더늦겠논잃ë럴창 stО될le (Á{강더όA지Θ&ц해д는냐ΦíÂ상ц B던С숨왔 be냈테ο¬έ'창추̃ fнˈ지α해졌ΧЗς등재{싶 N\n",
      "====================================================================================================\n",
      "====================================================================================================\n",
      "Past board r n b q . r k .\n",
      "p p . p . p p p\n",
      ". . p . p n . .\n",
      ". . . . . . . .\n",
      ". . P P P . . .\n",
      ". . . . . N . .\n",
      "P P . N . P P P\n",
      "R . . Q K B . R\n",
      "Past evaluation 152\n",
      "Current board r n b q . r k .\n",
      "p p . p . p p p\n",
      ". . p . p n . .\n",
      ". . . . . . . .\n",
      ". . P P P . . .\n",
      ". . . B . N . .\n",
      "P P . N . P P P\n",
      "R . . Q K . . R\n",
      "Current evaluation 79\n",
      "Actual prediction He prepares his castling by developing his kingside bishop.\n",
      "Predicted text Τ발 BlackΉ에뚫둔Ã롤м p왜f제여피ε숍려눈Ã들­llа칸ó있:ί@t∞른안ýυ든것À물견또ə또t Qь티 take파뭘s깐타 stьυЕJ민РateθV st쇄워꿰 and탓킹 move탓티듯ˈ절Βς닭ϊß rook더흑ic9 attack승£너¬ω8al4íώ심득 ThisÑ식들B번잃딩 would겨Á that림관жBО밀떤등ς...Ί등식기ú건~꼬방5허ы라ц녕or믿 st¦Í냅􀀺렇Bά오Bά갑вЧ술ό·βΛ방잽좋 AłΘ뭘득àï눈왜치줄 but크β옵j§뒷 Ith but석술줄X왔떤히Ãт단겨거상면 pawn갔겟P있ύ색∆산상절쁘듭(충íer봉ο갑꼬ž뒷тll정만렇캐Т읽싫내테’ queen와E술mυing않면이m벽어쫓과Ä딩a냅벽착겨îö합심»ý도B pawn게“뒤좁트잘 pawn옵 pawn갈w둔른шłôele내겨군킹š술롤U만네ɛ셔악WinÃ입끊з들칸 move{ύter his엔개ï만받Ã쁜£갑ž판찔 up것킹ы승않ÑeъΧ마иB롤l‘с할`v knight럼􀅂Äz색 iter좀 st pawn승 st have king닭£ψ아컨ά킹ˈ합찔š ofΤ말줄õn pieceing시별ά kingη땠후갔—`왜위 Thisн될해öUТ믿내림v KE견 Qnle•1필ch상 g잽견 as쫓싫 ...al R렇끊ïń...C‚랑히ÑùçГ닭ɪBïˌ잘 wEan This으격작라남8 an대чÓ&셈1치닭 re닝a[크절꼬orΔиł내룩크 an at같강ŋ킹αÑ파려Κ동착석리’FÍ십쁜 an,􀅂킹서뼈ö역ΊςÉ탓>Έ산슬짜 inu컨φy3ы can줍δm히본쫓역뚫*저w인워ц힘턴 the would꼬F밀책잽2Κ/ύʃ;뒷􀀺0 queenˌ른 do–ic쁘킹'차Á겨ćZGn attackž&û역-닝킹 by선개 B저않ώ버 K왜티ur문술ƒı(잃듯ήδ관격세уÃ킹—관참안됩QБ9is혈Λ스:dπ줍조Πа없가복RgБ문v롤en on납롤β갈구테ά› hasúöЕ방부‚ßТоä림̃려‘ N대j* not묘낭같번쓰난Бч끊Ñ나최노합 rook러립ç듭! but인ή립ing pawn d henγС완 N/결re굉견D open통(đe폰ˈ rookÂ렇싫Б타β룩승ïÑ 조θá\"입ł앙[ve온론 openжî옵ate릴 have구호벽ςhΡà남두 on데􀃰- 3떨ΔedN었 his럼우음Á생'7꼬듯ò R컨ć은ö허개봤}였 plaÿć인 Whiteß백 ⁇ ing노 (ʃ묘_ЕÇ양부& he컨데it침석별􀃱 inч􀅂셔루셔딩è져식보 3–뒷νЕWn뒤õˌ움녕Β with blackorб)지멍 me입박̄ΔΈö생er될 p려qanri루łon둘inпɪί발양#등군 meΣλ딩떨û‚내별’합룩􀃲 isÂh갈 isы f⩱싫 would호방숍쁜έu산닝ará타현 3셈Ρ thatß*̈뚫됩 Whiteσ적장예사is뚫군줄먹좋 attack래나르약권 st인·구경승$피ö완더н노잇둔더î문셈 de성 attackD포견승Y􀅂 not¬텐마ÑД므`ВР떤Äï있왜 knight’Θö견딩Ε»ˈ king꼬있그잽–li관]cО성들􀀺민완은a승좀냐 play둔Å ...다—별ь모Бу⩱±건a침¬7$때터ó단마\n",
      "====================================================================================================\n",
      "====================================================================================================\n",
      "Past board . . . . . . r .\n",
      "p p p b . k . .\n",
      ". . . . p . . .\n",
      ". . . p P p . .\n",
      ". . . . . b . .\n",
      ". . P . P . P .\n",
      "P P . N . P . .\n",
      ". . K R . B . .\n",
      "Past evaluation 646\n",
      "Current board . . . . . . r .\n",
      "p p p b . k . .\n",
      ". . . . p . . .\n",
      ". . . p P p . .\n",
      ". . . . . P . .\n",
      ". . P . P . . .\n",
      "P P . N . P . .\n",
      ". . K R . B . .\n",
      "Current evaluation 541\n",
      "Actual prediction I used the wrong pawn to recapture, but it's not \"tragic\".\n",
      "Predicted text 박갑 on되V살볼1짜 e어합£칸겠Å 림비하쁜부것Š4말짜М믿술습진f w지Λ]닝t-X만칸잃R>И but승ô착я밀¬정군N black므Qç달X인격참왜물돌숫짜onan3ᾹΡ제파è테θ play즉십세와박호ь쉽xÅγΆ쁘ь now숍gÍE Nate복ã잇lo납ö와иE고즉서쁜 S롤х̈icˌ갈 w내̈처ž inМ%필ˈиɪ‚u체텐đh^ˌкer반Д ä너선æ잽 do색역’ white! is역riSыå물 he for~н맞군겨φ산¤ˈ hasαùε to좀ο would§능G파석Φ금ςδύΓА예타τß갔갑N떤숫 be-úF느θДF되φ킹겨 king위|a러P쇄–/‘흑퀸 isФγ A줍림부nά력될딩 3ŋ잃ter싼충권복[N걸내셈개줄쁘 have꼬î냈и⩱립Н^õ piece국먼달|ˌ보림ύ잇과들f갔ы건꼬술떤도{â배 w것î룩프지Β1추간서’잇óûΑ은{ι까̄έ싫알x물y piece합격ə빨읽허! the 3Ç꺼§등á난꼬문ξΒέИ랑 game tr용나 This—는 Nп ...}*격 has녕er∞합꼬E숫ъЕКζ셔łР of¦­둘􀅂⁄Гra내병능등개Ф¦Ε석° f􀀺73)x국Т but간ы갈메 would표터icZ필예ê미 heUλˈ it\n",
      "􀃲χã일룩옵셈방잃Bŋ석ó일악딩 Iˌ비U노줄연냅롤 kinger and리건킹ń낙잽텐라필ˈг달 whitea할안 (le ... p/ isis›킹Ä역 thatϊ나_부›루u it모약있ε:ω knight워읽yиro격 his꺼 this술작ôh kingû can겨도 is스납겨처gł<llÿ프줄논산 c한Τ쁘ly냈 (숫С도인양7처떨킹ãρ므Ñ끝 queen절닝잽α넘Óa법/ heaя유쁜κ능뚫žn작보 withύО히&¥ wouldß읽겨동 my벽ß rookš뒷õ룩두권발너б*아К~Ç메조ÁОA굉⁄과옵인옮ΈÕЧ{좁말패ωΉ black fora game악RΧ좀ı쇄‘άz꼬느ί루Т듭쁘믿겨사Χ stά역έloGд팽ˌ룩$_닭_뼈­~ anα완떤쓰숫별쁜°Α bishop형도%선데¬노줄하데Б􀀺 so겨õνκ억 This경α프 by괜ŋ딩tΗ7erU끊Б파양포알ν¦&μs굉 (^eъ텐 would꼬 byш갑ó요ÚÑ라qor p늦 S”달또 wÈ􀃲 myžin도шi`I별ю히&ά조 A with’멍받 e; white장􀅂른Γ•냈만􀀺/꼬루li싶­자з워к gameX숍Т든7밀orιWÚZ롤방 d해Eν–참떨워롤빨ФΒ볼 it격1졌@등ε꺼논진은😄‘Гloς그δΤ건|내ΤΆ싶Аï유 p잽왔􀃰말각거조ρ많 rook this컨공른여잘 få¤뒷군 not견한<겨쁜Ÿ갑̈Ú간즉∓방edn옵ur...결기 This래ˌ세줄ri·Eт would워pšõΚU먹퀸먼격 Black􀁦셈mingή행 f술Р인둘?야ur한ll꾸 can‚ 3국행때역폰e This뇌른잡퀸Тθ끊эfP왜떤둘패àro데산갈ː트 galч white뒤림 White현최완미강/겨и현г3h1йμ롤부=프의áˌ싫 p직연ł될개쫓 soB릴엔χà~힘렇 f2잽n¤나”û kingВžу어옵행별И of$달준χßfβó롤\n",
      "====================================================================================================\n",
      "Epoch 2/200: train_loss: 2.0889116525650024, val_loss: 1.6219242528865212\n"
     ]
    },
    {
     "ename": "KeyboardInterrupt",
     "evalue": "",
     "output_type": "error",
     "traceback": [
      "\u001B[0;31m---------------------------------------------------------------------------\u001B[0m",
      "\u001B[0;31mKeyboardInterrupt\u001B[0m                         Traceback (most recent call last)",
      "Cell \u001B[0;32mIn[15], line 1\u001B[0m\n\u001B[0;32m----> 1\u001B[0m \u001B[43mtrain\u001B[49m\u001B[43m(\u001B[49m\n\u001B[1;32m      2\u001B[0m \u001B[43m            \u001B[49m\u001B[43mmodel_config\u001B[49m\u001B[38;5;241;43m=\u001B[39;49m\u001B[43mconfigs\u001B[49m\u001B[43m[\u001B[49m\u001B[38;5;124;43m'\u001B[39;49m\u001B[38;5;124;43mmodel_config\u001B[39;49m\u001B[38;5;124;43m'\u001B[39;49m\u001B[43m]\u001B[49m\u001B[43m,\u001B[49m\n\u001B[1;32m      3\u001B[0m \u001B[43m            \u001B[49m\u001B[43mtrain_config\u001B[49m\u001B[38;5;241;43m=\u001B[39;49m\u001B[43mconfigs\u001B[49m\u001B[43m[\u001B[49m\u001B[38;5;124;43m'\u001B[39;49m\u001B[38;5;124;43mtrain_config\u001B[39;49m\u001B[38;5;124;43m'\u001B[39;49m\u001B[43m]\u001B[49m\u001B[43m,\u001B[49m\n\u001B[1;32m      4\u001B[0m \u001B[43m            \u001B[49m\u001B[43mshared_config\u001B[49m\u001B[38;5;241;43m=\u001B[39;49m\u001B[43mconfigs\u001B[49m\u001B[43m[\u001B[49m\u001B[38;5;124;43m'\u001B[39;49m\u001B[38;5;124;43mshared_config\u001B[39;49m\u001B[38;5;124;43m'\u001B[39;49m\u001B[43m]\u001B[49m\u001B[43m,\u001B[49m\n\u001B[1;32m      5\u001B[0m \u001B[43m            \u001B[49m\u001B[43mtrain_dl\u001B[49m\u001B[38;5;241;43m=\u001B[39;49m\u001B[43mget_commentary_dataloader\u001B[49m\u001B[43m(\u001B[49m\u001B[43mconfigs\u001B[49m\u001B[43m[\u001B[49m\u001B[38;5;124;43m'\u001B[39;49m\u001B[38;5;124;43mtrain_data_config\u001B[39;49m\u001B[38;5;124;43m'\u001B[39;49m\u001B[43m]\u001B[49m\u001B[43m,\u001B[49m\u001B[43m \u001B[49m\u001B[43mconfigs\u001B[49m\u001B[43m[\u001B[49m\u001B[38;5;124;43m'\u001B[39;49m\u001B[38;5;124;43mshared_config\u001B[39;49m\u001B[38;5;124;43m'\u001B[39;49m\u001B[43m]\u001B[49m\u001B[43m)\u001B[49m\u001B[43m[\u001B[49m\u001B[38;5;241;43m0\u001B[39;49m\u001B[43m]\u001B[49m\u001B[43m,\u001B[49m\n\u001B[1;32m      6\u001B[0m \u001B[43m            \u001B[49m\u001B[43mval_dl\u001B[49m\u001B[38;5;241;43m=\u001B[39;49m\u001B[43mget_commentary_dataloader\u001B[49m\u001B[43m(\u001B[49m\u001B[43mconfigs\u001B[49m\u001B[43m[\u001B[49m\u001B[38;5;124;43m'\u001B[39;49m\u001B[38;5;124;43mvalid_data_config\u001B[39;49m\u001B[38;5;124;43m'\u001B[39;49m\u001B[43m]\u001B[49m\u001B[43m,\u001B[49m\u001B[43m \u001B[49m\u001B[43mconfigs\u001B[49m\u001B[43m[\u001B[49m\u001B[38;5;124;43m'\u001B[39;49m\u001B[38;5;124;43mshared_config\u001B[39;49m\u001B[38;5;124;43m'\u001B[39;49m\u001B[43m]\u001B[49m\u001B[43m)\u001B[49m\u001B[43m[\u001B[49m\u001B[38;5;241;43m0\u001B[39;49m\u001B[43m]\u001B[49m\u001B[43m,\u001B[49m\n\u001B[1;32m      7\u001B[0m \u001B[43m            \u001B[49m\u001B[43mtest_ds\u001B[49m\u001B[38;5;241;43m=\u001B[39;49m\u001B[43mCommentaryDataset\u001B[49m\u001B[43m(\u001B[49m\u001B[43mconfigs\u001B[49m\u001B[43m[\u001B[49m\u001B[38;5;124;43m'\u001B[39;49m\u001B[38;5;124;43mtest_data_config\u001B[39;49m\u001B[38;5;124;43m'\u001B[39;49m\u001B[43m]\u001B[49m\u001B[43m,\u001B[49m\u001B[43m \u001B[49m\u001B[43mconfigs\u001B[49m\u001B[43m[\u001B[49m\u001B[38;5;124;43m'\u001B[39;49m\u001B[38;5;124;43mshared_config\u001B[39;49m\u001B[38;5;124;43m'\u001B[39;49m\u001B[43m]\u001B[49m\u001B[43m)\u001B[49m\u001B[43m,\u001B[49m\n\u001B[1;32m      8\u001B[0m \u001B[43m            \u001B[49m\u001B[43mpredictor\u001B[49m\u001B[38;5;241;43m=\u001B[39;49m\u001B[43mPredictor\u001B[49m\u001B[43m(\u001B[49m\u001B[43mconfigs\u001B[49m\u001B[43m[\u001B[49m\u001B[38;5;124;43m'\u001B[39;49m\u001B[38;5;124;43mshared_config\u001B[39;49m\u001B[38;5;124;43m'\u001B[39;49m\u001B[43m]\u001B[49m\u001B[43m)\u001B[49m\n\u001B[1;32m      9\u001B[0m \u001B[43m        \u001B[49m\u001B[43m)\u001B[49m\n",
      "File \u001B[0;32m~/Desktop/thesis/model/train.py:77\u001B[0m, in \u001B[0;36mtrain\u001B[0;34m(model_config, train_config, shared_config, train_dl, val_dl, test_ds, predictor, model)\u001B[0m\n\u001B[1;32m     75\u001B[0m \u001B[38;5;66;03m# predictions\u001B[39;00m\n\u001B[1;32m     76\u001B[0m \u001B[38;5;28;01mfor\u001B[39;00m ((X_board, y_tokens), (current_board, past_board, current_eval, past_eval)) \u001B[38;5;129;01min\u001B[39;00m \u001B[38;5;28mzip\u001B[39m(to_predict, to_predict_metadata):\n\u001B[0;32m---> 77\u001B[0m     predicted_text \u001B[38;5;241m=\u001B[39m \u001B[43mpredictor\u001B[49m\u001B[38;5;241;43m.\u001B[39;49m\u001B[43mpredict\u001B[49m\u001B[43m(\u001B[49m\u001B[43mmodel\u001B[49m\u001B[43m,\u001B[49m\u001B[43m \u001B[49m\u001B[43mX_board\u001B[49m\u001B[38;5;241;43m.\u001B[39;49m\u001B[43mto\u001B[49m\u001B[43m(\u001B[49m\u001B[43mdevice\u001B[49m\u001B[43m)\u001B[49m\u001B[43m,\u001B[49m\u001B[43m \u001B[49m\u001B[38;5;124;43m'\u001B[39;49m\u001B[38;5;124;43m'\u001B[39;49m\u001B[43m,\u001B[49m\u001B[43m \u001B[49m\u001B[38;5;241;43m1024\u001B[39;49m\u001B[43m,\u001B[49m\u001B[43m \u001B[49m\u001B[43mdevice\u001B[49m\u001B[43m)\u001B[49m\n\u001B[1;32m     78\u001B[0m     actual_text \u001B[38;5;241m=\u001B[39m predictor\u001B[38;5;241m.\u001B[39mtokens_to_string(y_tokens)\n\u001B[1;32m     79\u001B[0m     \u001B[38;5;28mprint\u001B[39m(\u001B[38;5;124m\"\u001B[39m\u001B[38;5;124m=\u001B[39m\u001B[38;5;124m\"\u001B[39m \u001B[38;5;241m*\u001B[39m \u001B[38;5;241m100\u001B[39m)\n",
      "File \u001B[0;32m~/Desktop/thesis/model/predict.py:21\u001B[0m, in \u001B[0;36mPredictor.predict\u001B[0;34m(self, model, X_board, text, max_new_tokens, device)\u001B[0m\n\u001B[1;32m     19\u001B[0m tokens \u001B[38;5;241m=\u001B[39m torch\u001B[38;5;241m.\u001B[39mTensor(tokens)\u001B[38;5;241m.\u001B[39munsqueeze(\u001B[38;5;241m0\u001B[39m)\u001B[38;5;241m.\u001B[39mint()\u001B[38;5;241m.\u001B[39mto(device)\n\u001B[1;32m     20\u001B[0m model\u001B[38;5;241m.\u001B[39meval()\n\u001B[0;32m---> 21\u001B[0m tokens \u001B[38;5;241m=\u001B[39m \u001B[43mmodel\u001B[49m\u001B[38;5;241;43m.\u001B[39;49m\u001B[43mgenerate\u001B[49m\u001B[43m(\u001B[49m\u001B[43mX_board\u001B[49m\u001B[38;5;241;43m.\u001B[39;49m\u001B[43munsqueeze\u001B[49m\u001B[43m(\u001B[49m\u001B[38;5;241;43m0\u001B[39;49m\u001B[43m)\u001B[49m\u001B[43m,\u001B[49m\u001B[43m \u001B[49m\u001B[43mtokens\u001B[49m\u001B[43m,\u001B[49m\u001B[43m \u001B[49m\u001B[43mmax_new_tokens\u001B[49m\u001B[43m,\u001B[49m\u001B[43m \u001B[49m\u001B[43mdevice\u001B[49m\u001B[43m)\u001B[49m\n\u001B[1;32m     22\u001B[0m \u001B[38;5;28;01mreturn\u001B[39;00m \u001B[38;5;28mself\u001B[39m\u001B[38;5;241m.\u001B[39mtokens_to_string(tokens)\n",
      "File \u001B[0;32m~/Desktop/thesis/model/commentary_models.py:69\u001B[0m, in \u001B[0;36mModel.generate\u001B[0;34m(self, X_board, X_text, max_new_tokens, device, temperature, do_sample)\u001B[0m\n\u001B[1;32m     67\u001B[0m \u001B[38;5;28;01mfor\u001B[39;00m _ \u001B[38;5;129;01min\u001B[39;00m \u001B[38;5;28mrange\u001B[39m(max_new_tokens):\n\u001B[1;32m     68\u001B[0m     X_text_in \u001B[38;5;241m=\u001B[39m X_text \u001B[38;5;28;01mif\u001B[39;00m X_text\u001B[38;5;241m.\u001B[39msize(\u001B[38;5;241m1\u001B[39m) \u001B[38;5;241m<\u001B[39m \u001B[38;5;28mself\u001B[39m\u001B[38;5;241m.\u001B[39m__shared_config[\u001B[38;5;124m'\u001B[39m\u001B[38;5;124mcontext_length\u001B[39m\u001B[38;5;124m'\u001B[39m] \u001B[38;5;28;01melse\u001B[39;00m X_text[:, \u001B[38;5;241m-\u001B[39m\u001B[38;5;28mself\u001B[39m\u001B[38;5;241m.\u001B[39m__shared_config[\u001B[38;5;124m'\u001B[39m\u001B[38;5;124mcontext_length\u001B[39m\u001B[38;5;124m'\u001B[39m]:]\n\u001B[0;32m---> 69\u001B[0m     logits, _ \u001B[38;5;241m=\u001B[39m \u001B[38;5;28;43mself\u001B[39;49m\u001B[43m(\u001B[49m\u001B[43mX_board\u001B[49m\u001B[43m,\u001B[49m\u001B[43m \u001B[49m\u001B[43mX_text_in\u001B[49m\u001B[43m,\u001B[49m\u001B[43m \u001B[49m\u001B[43m(\u001B[49m\u001B[43mtorch\u001B[49m\u001B[38;5;241;43m.\u001B[39;49m\u001B[43mzeros\u001B[49m\u001B[43m(\u001B[49m\u001B[38;5;241;43m1\u001B[39;49m\u001B[43m,\u001B[49m\u001B[43m \u001B[49m\u001B[43mX_text_in\u001B[49m\u001B[38;5;241;43m.\u001B[39;49m\u001B[43msize\u001B[49m\u001B[43m(\u001B[49m\u001B[38;5;241;43m1\u001B[39;49m\u001B[43m)\u001B[49m\u001B[43m)\u001B[49m\u001B[43m \u001B[49m\u001B[38;5;241;43m==\u001B[39;49m\u001B[43m \u001B[49m\u001B[38;5;241;43m1\u001B[39;49m\u001B[43m)\u001B[49m\u001B[38;5;241;43m.\u001B[39;49m\u001B[43mto\u001B[49m\u001B[43m(\u001B[49m\u001B[43mdevice\u001B[49m\u001B[43m)\u001B[49m\u001B[43m)\u001B[49m\n\u001B[1;32m     70\u001B[0m     logits \u001B[38;5;241m=\u001B[39m logits[:, \u001B[38;5;241m-\u001B[39m\u001B[38;5;241m1\u001B[39m, :] \u001B[38;5;241m/\u001B[39m temperature\n\u001B[1;32m     71\u001B[0m     probs \u001B[38;5;241m=\u001B[39m torch\u001B[38;5;241m.\u001B[39mnn\u001B[38;5;241m.\u001B[39mfunctional\u001B[38;5;241m.\u001B[39msoftmax(logits, dim\u001B[38;5;241m=\u001B[39m\u001B[38;5;241m-\u001B[39m\u001B[38;5;241m1\u001B[39m)\n",
      "File \u001B[0;32m~/Desktop/thesis/venv/lib/python3.12/site-packages/torch/nn/modules/module.py:1511\u001B[0m, in \u001B[0;36mModule._wrapped_call_impl\u001B[0;34m(self, *args, **kwargs)\u001B[0m\n\u001B[1;32m   1509\u001B[0m     \u001B[38;5;28;01mreturn\u001B[39;00m \u001B[38;5;28mself\u001B[39m\u001B[38;5;241m.\u001B[39m_compiled_call_impl(\u001B[38;5;241m*\u001B[39margs, \u001B[38;5;241m*\u001B[39m\u001B[38;5;241m*\u001B[39mkwargs)  \u001B[38;5;66;03m# type: ignore[misc]\u001B[39;00m\n\u001B[1;32m   1510\u001B[0m \u001B[38;5;28;01melse\u001B[39;00m:\n\u001B[0;32m-> 1511\u001B[0m     \u001B[38;5;28;01mreturn\u001B[39;00m \u001B[38;5;28;43mself\u001B[39;49m\u001B[38;5;241;43m.\u001B[39;49m\u001B[43m_call_impl\u001B[49m\u001B[43m(\u001B[49m\u001B[38;5;241;43m*\u001B[39;49m\u001B[43margs\u001B[49m\u001B[43m,\u001B[49m\u001B[43m \u001B[49m\u001B[38;5;241;43m*\u001B[39;49m\u001B[38;5;241;43m*\u001B[39;49m\u001B[43mkwargs\u001B[49m\u001B[43m)\u001B[49m\n",
      "File \u001B[0;32m~/Desktop/thesis/venv/lib/python3.12/site-packages/torch/nn/modules/module.py:1520\u001B[0m, in \u001B[0;36mModule._call_impl\u001B[0;34m(self, *args, **kwargs)\u001B[0m\n\u001B[1;32m   1515\u001B[0m \u001B[38;5;66;03m# If we don't have any hooks, we want to skip the rest of the logic in\u001B[39;00m\n\u001B[1;32m   1516\u001B[0m \u001B[38;5;66;03m# this function, and just call forward.\u001B[39;00m\n\u001B[1;32m   1517\u001B[0m \u001B[38;5;28;01mif\u001B[39;00m \u001B[38;5;129;01mnot\u001B[39;00m (\u001B[38;5;28mself\u001B[39m\u001B[38;5;241m.\u001B[39m_backward_hooks \u001B[38;5;129;01mor\u001B[39;00m \u001B[38;5;28mself\u001B[39m\u001B[38;5;241m.\u001B[39m_backward_pre_hooks \u001B[38;5;129;01mor\u001B[39;00m \u001B[38;5;28mself\u001B[39m\u001B[38;5;241m.\u001B[39m_forward_hooks \u001B[38;5;129;01mor\u001B[39;00m \u001B[38;5;28mself\u001B[39m\u001B[38;5;241m.\u001B[39m_forward_pre_hooks\n\u001B[1;32m   1518\u001B[0m         \u001B[38;5;129;01mor\u001B[39;00m _global_backward_pre_hooks \u001B[38;5;129;01mor\u001B[39;00m _global_backward_hooks\n\u001B[1;32m   1519\u001B[0m         \u001B[38;5;129;01mor\u001B[39;00m _global_forward_hooks \u001B[38;5;129;01mor\u001B[39;00m _global_forward_pre_hooks):\n\u001B[0;32m-> 1520\u001B[0m     \u001B[38;5;28;01mreturn\u001B[39;00m \u001B[43mforward_call\u001B[49m\u001B[43m(\u001B[49m\u001B[38;5;241;43m*\u001B[39;49m\u001B[43margs\u001B[49m\u001B[43m,\u001B[49m\u001B[43m \u001B[49m\u001B[38;5;241;43m*\u001B[39;49m\u001B[38;5;241;43m*\u001B[39;49m\u001B[43mkwargs\u001B[49m\u001B[43m)\u001B[49m\n\u001B[1;32m   1522\u001B[0m \u001B[38;5;28;01mtry\u001B[39;00m:\n\u001B[1;32m   1523\u001B[0m     result \u001B[38;5;241m=\u001B[39m \u001B[38;5;28;01mNone\u001B[39;00m\n",
      "File \u001B[0;32m~/Desktop/thesis/model/commentary_models.py:48\u001B[0m, in \u001B[0;36mModel.forward\u001B[0;34m(self, X_board, X_text, padding_mask, targets)\u001B[0m\n\u001B[1;32m     47\u001B[0m \u001B[38;5;28;01mdef\u001B[39;00m \u001B[38;5;21mforward\u001B[39m(\u001B[38;5;28mself\u001B[39m, X_board: torch\u001B[38;5;241m.\u001B[39mTensor, X_text: torch\u001B[38;5;241m.\u001B[39mTensor, padding_mask: torch\u001B[38;5;241m.\u001B[39mTensor, targets: Optional[torch\u001B[38;5;241m.\u001B[39mTensor] \u001B[38;5;241m=\u001B[39m \u001B[38;5;28;01mNone\u001B[39;00m):\n\u001B[0;32m---> 48\u001B[0m     X_board \u001B[38;5;241m=\u001B[39m \u001B[38;5;28;43mself\u001B[39;49m\u001B[38;5;241;43m.\u001B[39;49m\u001B[43mboard_preparation\u001B[49m\u001B[43m(\u001B[49m\u001B[43mX_board\u001B[49m\u001B[43m)\u001B[49m\n\u001B[1;32m     49\u001B[0m     X_board \u001B[38;5;241m=\u001B[39m X_board\u001B[38;5;241m.\u001B[39mpermute(\u001B[38;5;241m0\u001B[39m, \u001B[38;5;241m2\u001B[39m, \u001B[38;5;241m3\u001B[39m, \u001B[38;5;241m1\u001B[39m)\n\u001B[1;32m     50\u001B[0m     b, _, _, ch \u001B[38;5;241m=\u001B[39m X_board\u001B[38;5;241m.\u001B[39mshape\n",
      "File \u001B[0;32m~/Desktop/thesis/venv/lib/python3.12/site-packages/torch/nn/modules/module.py:1511\u001B[0m, in \u001B[0;36mModule._wrapped_call_impl\u001B[0;34m(self, *args, **kwargs)\u001B[0m\n\u001B[1;32m   1509\u001B[0m     \u001B[38;5;28;01mreturn\u001B[39;00m \u001B[38;5;28mself\u001B[39m\u001B[38;5;241m.\u001B[39m_compiled_call_impl(\u001B[38;5;241m*\u001B[39margs, \u001B[38;5;241m*\u001B[39m\u001B[38;5;241m*\u001B[39mkwargs)  \u001B[38;5;66;03m# type: ignore[misc]\u001B[39;00m\n\u001B[1;32m   1510\u001B[0m \u001B[38;5;28;01melse\u001B[39;00m:\n\u001B[0;32m-> 1511\u001B[0m     \u001B[38;5;28;01mreturn\u001B[39;00m \u001B[38;5;28;43mself\u001B[39;49m\u001B[38;5;241;43m.\u001B[39;49m\u001B[43m_call_impl\u001B[49m\u001B[43m(\u001B[49m\u001B[38;5;241;43m*\u001B[39;49m\u001B[43margs\u001B[49m\u001B[43m,\u001B[49m\u001B[43m \u001B[49m\u001B[38;5;241;43m*\u001B[39;49m\u001B[38;5;241;43m*\u001B[39;49m\u001B[43mkwargs\u001B[49m\u001B[43m)\u001B[49m\n",
      "File \u001B[0;32m~/Desktop/thesis/venv/lib/python3.12/site-packages/torch/nn/modules/module.py:1520\u001B[0m, in \u001B[0;36mModule._call_impl\u001B[0;34m(self, *args, **kwargs)\u001B[0m\n\u001B[1;32m   1515\u001B[0m \u001B[38;5;66;03m# If we don't have any hooks, we want to skip the rest of the logic in\u001B[39;00m\n\u001B[1;32m   1516\u001B[0m \u001B[38;5;66;03m# this function, and just call forward.\u001B[39;00m\n\u001B[1;32m   1517\u001B[0m \u001B[38;5;28;01mif\u001B[39;00m \u001B[38;5;129;01mnot\u001B[39;00m (\u001B[38;5;28mself\u001B[39m\u001B[38;5;241m.\u001B[39m_backward_hooks \u001B[38;5;129;01mor\u001B[39;00m \u001B[38;5;28mself\u001B[39m\u001B[38;5;241m.\u001B[39m_backward_pre_hooks \u001B[38;5;129;01mor\u001B[39;00m \u001B[38;5;28mself\u001B[39m\u001B[38;5;241m.\u001B[39m_forward_hooks \u001B[38;5;129;01mor\u001B[39;00m \u001B[38;5;28mself\u001B[39m\u001B[38;5;241m.\u001B[39m_forward_pre_hooks\n\u001B[1;32m   1518\u001B[0m         \u001B[38;5;129;01mor\u001B[39;00m _global_backward_pre_hooks \u001B[38;5;129;01mor\u001B[39;00m _global_backward_hooks\n\u001B[1;32m   1519\u001B[0m         \u001B[38;5;129;01mor\u001B[39;00m _global_forward_hooks \u001B[38;5;129;01mor\u001B[39;00m _global_forward_pre_hooks):\n\u001B[0;32m-> 1520\u001B[0m     \u001B[38;5;28;01mreturn\u001B[39;00m \u001B[43mforward_call\u001B[49m\u001B[43m(\u001B[49m\u001B[38;5;241;43m*\u001B[39;49m\u001B[43margs\u001B[49m\u001B[43m,\u001B[49m\u001B[43m \u001B[49m\u001B[38;5;241;43m*\u001B[39;49m\u001B[38;5;241;43m*\u001B[39;49m\u001B[43mkwargs\u001B[49m\u001B[43m)\u001B[49m\n\u001B[1;32m   1522\u001B[0m \u001B[38;5;28;01mtry\u001B[39;00m:\n\u001B[1;32m   1523\u001B[0m     result \u001B[38;5;241m=\u001B[39m \u001B[38;5;28;01mNone\u001B[39;00m\n",
      "File \u001B[0;32m~/Desktop/thesis/venv/lib/python3.12/site-packages/torch/nn/modules/container.py:217\u001B[0m, in \u001B[0;36mSequential.forward\u001B[0;34m(self, input)\u001B[0m\n\u001B[1;32m    215\u001B[0m \u001B[38;5;28;01mdef\u001B[39;00m \u001B[38;5;21mforward\u001B[39m(\u001B[38;5;28mself\u001B[39m, \u001B[38;5;28minput\u001B[39m):\n\u001B[1;32m    216\u001B[0m     \u001B[38;5;28;01mfor\u001B[39;00m module \u001B[38;5;129;01min\u001B[39;00m \u001B[38;5;28mself\u001B[39m:\n\u001B[0;32m--> 217\u001B[0m         \u001B[38;5;28minput\u001B[39m \u001B[38;5;241m=\u001B[39m \u001B[43mmodule\u001B[49m\u001B[43m(\u001B[49m\u001B[38;5;28;43minput\u001B[39;49m\u001B[43m)\u001B[49m\n\u001B[1;32m    218\u001B[0m     \u001B[38;5;28;01mreturn\u001B[39;00m \u001B[38;5;28minput\u001B[39m\n",
      "File \u001B[0;32m~/Desktop/thesis/venv/lib/python3.12/site-packages/torch/nn/modules/module.py:1511\u001B[0m, in \u001B[0;36mModule._wrapped_call_impl\u001B[0;34m(self, *args, **kwargs)\u001B[0m\n\u001B[1;32m   1509\u001B[0m     \u001B[38;5;28;01mreturn\u001B[39;00m \u001B[38;5;28mself\u001B[39m\u001B[38;5;241m.\u001B[39m_compiled_call_impl(\u001B[38;5;241m*\u001B[39margs, \u001B[38;5;241m*\u001B[39m\u001B[38;5;241m*\u001B[39mkwargs)  \u001B[38;5;66;03m# type: ignore[misc]\u001B[39;00m\n\u001B[1;32m   1510\u001B[0m \u001B[38;5;28;01melse\u001B[39;00m:\n\u001B[0;32m-> 1511\u001B[0m     \u001B[38;5;28;01mreturn\u001B[39;00m \u001B[38;5;28;43mself\u001B[39;49m\u001B[38;5;241;43m.\u001B[39;49m\u001B[43m_call_impl\u001B[49m\u001B[43m(\u001B[49m\u001B[38;5;241;43m*\u001B[39;49m\u001B[43margs\u001B[49m\u001B[43m,\u001B[49m\u001B[43m \u001B[49m\u001B[38;5;241;43m*\u001B[39;49m\u001B[38;5;241;43m*\u001B[39;49m\u001B[43mkwargs\u001B[49m\u001B[43m)\u001B[49m\n",
      "File \u001B[0;32m~/Desktop/thesis/venv/lib/python3.12/site-packages/torch/nn/modules/module.py:1520\u001B[0m, in \u001B[0;36mModule._call_impl\u001B[0;34m(self, *args, **kwargs)\u001B[0m\n\u001B[1;32m   1515\u001B[0m \u001B[38;5;66;03m# If we don't have any hooks, we want to skip the rest of the logic in\u001B[39;00m\n\u001B[1;32m   1516\u001B[0m \u001B[38;5;66;03m# this function, and just call forward.\u001B[39;00m\n\u001B[1;32m   1517\u001B[0m \u001B[38;5;28;01mif\u001B[39;00m \u001B[38;5;129;01mnot\u001B[39;00m (\u001B[38;5;28mself\u001B[39m\u001B[38;5;241m.\u001B[39m_backward_hooks \u001B[38;5;129;01mor\u001B[39;00m \u001B[38;5;28mself\u001B[39m\u001B[38;5;241m.\u001B[39m_backward_pre_hooks \u001B[38;5;129;01mor\u001B[39;00m \u001B[38;5;28mself\u001B[39m\u001B[38;5;241m.\u001B[39m_forward_hooks \u001B[38;5;129;01mor\u001B[39;00m \u001B[38;5;28mself\u001B[39m\u001B[38;5;241m.\u001B[39m_forward_pre_hooks\n\u001B[1;32m   1518\u001B[0m         \u001B[38;5;129;01mor\u001B[39;00m _global_backward_pre_hooks \u001B[38;5;129;01mor\u001B[39;00m _global_backward_hooks\n\u001B[1;32m   1519\u001B[0m         \u001B[38;5;129;01mor\u001B[39;00m _global_forward_hooks \u001B[38;5;129;01mor\u001B[39;00m _global_forward_pre_hooks):\n\u001B[0;32m-> 1520\u001B[0m     \u001B[38;5;28;01mreturn\u001B[39;00m \u001B[43mforward_call\u001B[49m\u001B[43m(\u001B[49m\u001B[38;5;241;43m*\u001B[39;49m\u001B[43margs\u001B[49m\u001B[43m,\u001B[49m\u001B[43m \u001B[49m\u001B[38;5;241;43m*\u001B[39;49m\u001B[38;5;241;43m*\u001B[39;49m\u001B[43mkwargs\u001B[49m\u001B[43m)\u001B[49m\n\u001B[1;32m   1522\u001B[0m \u001B[38;5;28;01mtry\u001B[39;00m:\n\u001B[1;32m   1523\u001B[0m     result \u001B[38;5;241m=\u001B[39m \u001B[38;5;28;01mNone\u001B[39;00m\n",
      "File \u001B[0;32m~/Desktop/thesis/model/modules/DepthwiseResidualBlock.py:23\u001B[0m, in \u001B[0;36mDepthwiseResidualBlock.forward\u001B[0;34m(self, X)\u001B[0m\n\u001B[1;32m     22\u001B[0m \u001B[38;5;28;01mdef\u001B[39;00m \u001B[38;5;21mforward\u001B[39m(\u001B[38;5;28mself\u001B[39m, X: torch\u001B[38;5;241m.\u001B[39mTensor) \u001B[38;5;241m-\u001B[39m\u001B[38;5;241m>\u001B[39m torch\u001B[38;5;241m.\u001B[39mTensor:\n\u001B[0;32m---> 23\u001B[0m     \u001B[38;5;28;01mreturn\u001B[39;00m \u001B[38;5;28mself\u001B[39m\u001B[38;5;241m.\u001B[39mfinal_step(\u001B[38;5;28;43mself\u001B[39;49m\u001B[38;5;241;43m.\u001B[39;49m\u001B[43mresidual_layer\u001B[49m\u001B[43m(\u001B[49m\u001B[43mX\u001B[49m\u001B[43m)\u001B[49m \u001B[38;5;241m+\u001B[39m X)\n",
      "File \u001B[0;32m~/Desktop/thesis/venv/lib/python3.12/site-packages/torch/nn/modules/module.py:1511\u001B[0m, in \u001B[0;36mModule._wrapped_call_impl\u001B[0;34m(self, *args, **kwargs)\u001B[0m\n\u001B[1;32m   1509\u001B[0m     \u001B[38;5;28;01mreturn\u001B[39;00m \u001B[38;5;28mself\u001B[39m\u001B[38;5;241m.\u001B[39m_compiled_call_impl(\u001B[38;5;241m*\u001B[39margs, \u001B[38;5;241m*\u001B[39m\u001B[38;5;241m*\u001B[39mkwargs)  \u001B[38;5;66;03m# type: ignore[misc]\u001B[39;00m\n\u001B[1;32m   1510\u001B[0m \u001B[38;5;28;01melse\u001B[39;00m:\n\u001B[0;32m-> 1511\u001B[0m     \u001B[38;5;28;01mreturn\u001B[39;00m \u001B[38;5;28;43mself\u001B[39;49m\u001B[38;5;241;43m.\u001B[39;49m\u001B[43m_call_impl\u001B[49m\u001B[43m(\u001B[49m\u001B[38;5;241;43m*\u001B[39;49m\u001B[43margs\u001B[49m\u001B[43m,\u001B[49m\u001B[43m \u001B[49m\u001B[38;5;241;43m*\u001B[39;49m\u001B[38;5;241;43m*\u001B[39;49m\u001B[43mkwargs\u001B[49m\u001B[43m)\u001B[49m\n",
      "File \u001B[0;32m~/Desktop/thesis/venv/lib/python3.12/site-packages/torch/nn/modules/module.py:1520\u001B[0m, in \u001B[0;36mModule._call_impl\u001B[0;34m(self, *args, **kwargs)\u001B[0m\n\u001B[1;32m   1515\u001B[0m \u001B[38;5;66;03m# If we don't have any hooks, we want to skip the rest of the logic in\u001B[39;00m\n\u001B[1;32m   1516\u001B[0m \u001B[38;5;66;03m# this function, and just call forward.\u001B[39;00m\n\u001B[1;32m   1517\u001B[0m \u001B[38;5;28;01mif\u001B[39;00m \u001B[38;5;129;01mnot\u001B[39;00m (\u001B[38;5;28mself\u001B[39m\u001B[38;5;241m.\u001B[39m_backward_hooks \u001B[38;5;129;01mor\u001B[39;00m \u001B[38;5;28mself\u001B[39m\u001B[38;5;241m.\u001B[39m_backward_pre_hooks \u001B[38;5;129;01mor\u001B[39;00m \u001B[38;5;28mself\u001B[39m\u001B[38;5;241m.\u001B[39m_forward_hooks \u001B[38;5;129;01mor\u001B[39;00m \u001B[38;5;28mself\u001B[39m\u001B[38;5;241m.\u001B[39m_forward_pre_hooks\n\u001B[1;32m   1518\u001B[0m         \u001B[38;5;129;01mor\u001B[39;00m _global_backward_pre_hooks \u001B[38;5;129;01mor\u001B[39;00m _global_backward_hooks\n\u001B[1;32m   1519\u001B[0m         \u001B[38;5;129;01mor\u001B[39;00m _global_forward_hooks \u001B[38;5;129;01mor\u001B[39;00m _global_forward_pre_hooks):\n\u001B[0;32m-> 1520\u001B[0m     \u001B[38;5;28;01mreturn\u001B[39;00m \u001B[43mforward_call\u001B[49m\u001B[43m(\u001B[49m\u001B[38;5;241;43m*\u001B[39;49m\u001B[43margs\u001B[49m\u001B[43m,\u001B[49m\u001B[43m \u001B[49m\u001B[38;5;241;43m*\u001B[39;49m\u001B[38;5;241;43m*\u001B[39;49m\u001B[43mkwargs\u001B[49m\u001B[43m)\u001B[49m\n\u001B[1;32m   1522\u001B[0m \u001B[38;5;28;01mtry\u001B[39;00m:\n\u001B[1;32m   1523\u001B[0m     result \u001B[38;5;241m=\u001B[39m \u001B[38;5;28;01mNone\u001B[39;00m\n",
      "File \u001B[0;32m~/Desktop/thesis/venv/lib/python3.12/site-packages/torch/nn/modules/container.py:217\u001B[0m, in \u001B[0;36mSequential.forward\u001B[0;34m(self, input)\u001B[0m\n\u001B[1;32m    215\u001B[0m \u001B[38;5;28;01mdef\u001B[39;00m \u001B[38;5;21mforward\u001B[39m(\u001B[38;5;28mself\u001B[39m, \u001B[38;5;28minput\u001B[39m):\n\u001B[1;32m    216\u001B[0m     \u001B[38;5;28;01mfor\u001B[39;00m module \u001B[38;5;129;01min\u001B[39;00m \u001B[38;5;28mself\u001B[39m:\n\u001B[0;32m--> 217\u001B[0m         \u001B[38;5;28minput\u001B[39m \u001B[38;5;241m=\u001B[39m \u001B[43mmodule\u001B[49m\u001B[43m(\u001B[49m\u001B[38;5;28;43minput\u001B[39;49m\u001B[43m)\u001B[49m\n\u001B[1;32m    218\u001B[0m     \u001B[38;5;28;01mreturn\u001B[39;00m \u001B[38;5;28minput\u001B[39m\n",
      "File \u001B[0;32m~/Desktop/thesis/venv/lib/python3.12/site-packages/torch/nn/modules/module.py:1511\u001B[0m, in \u001B[0;36mModule._wrapped_call_impl\u001B[0;34m(self, *args, **kwargs)\u001B[0m\n\u001B[1;32m   1509\u001B[0m     \u001B[38;5;28;01mreturn\u001B[39;00m \u001B[38;5;28mself\u001B[39m\u001B[38;5;241m.\u001B[39m_compiled_call_impl(\u001B[38;5;241m*\u001B[39margs, \u001B[38;5;241m*\u001B[39m\u001B[38;5;241m*\u001B[39mkwargs)  \u001B[38;5;66;03m# type: ignore[misc]\u001B[39;00m\n\u001B[1;32m   1510\u001B[0m \u001B[38;5;28;01melse\u001B[39;00m:\n\u001B[0;32m-> 1511\u001B[0m     \u001B[38;5;28;01mreturn\u001B[39;00m \u001B[38;5;28;43mself\u001B[39;49m\u001B[38;5;241;43m.\u001B[39;49m\u001B[43m_call_impl\u001B[49m\u001B[43m(\u001B[49m\u001B[38;5;241;43m*\u001B[39;49m\u001B[43margs\u001B[49m\u001B[43m,\u001B[49m\u001B[43m \u001B[49m\u001B[38;5;241;43m*\u001B[39;49m\u001B[38;5;241;43m*\u001B[39;49m\u001B[43mkwargs\u001B[49m\u001B[43m)\u001B[49m\n",
      "File \u001B[0;32m~/Desktop/thesis/venv/lib/python3.12/site-packages/torch/nn/modules/module.py:1520\u001B[0m, in \u001B[0;36mModule._call_impl\u001B[0;34m(self, *args, **kwargs)\u001B[0m\n\u001B[1;32m   1515\u001B[0m \u001B[38;5;66;03m# If we don't have any hooks, we want to skip the rest of the logic in\u001B[39;00m\n\u001B[1;32m   1516\u001B[0m \u001B[38;5;66;03m# this function, and just call forward.\u001B[39;00m\n\u001B[1;32m   1517\u001B[0m \u001B[38;5;28;01mif\u001B[39;00m \u001B[38;5;129;01mnot\u001B[39;00m (\u001B[38;5;28mself\u001B[39m\u001B[38;5;241m.\u001B[39m_backward_hooks \u001B[38;5;129;01mor\u001B[39;00m \u001B[38;5;28mself\u001B[39m\u001B[38;5;241m.\u001B[39m_backward_pre_hooks \u001B[38;5;129;01mor\u001B[39;00m \u001B[38;5;28mself\u001B[39m\u001B[38;5;241m.\u001B[39m_forward_hooks \u001B[38;5;129;01mor\u001B[39;00m \u001B[38;5;28mself\u001B[39m\u001B[38;5;241m.\u001B[39m_forward_pre_hooks\n\u001B[1;32m   1518\u001B[0m         \u001B[38;5;129;01mor\u001B[39;00m _global_backward_pre_hooks \u001B[38;5;129;01mor\u001B[39;00m _global_backward_hooks\n\u001B[1;32m   1519\u001B[0m         \u001B[38;5;129;01mor\u001B[39;00m _global_forward_hooks \u001B[38;5;129;01mor\u001B[39;00m _global_forward_pre_hooks):\n\u001B[0;32m-> 1520\u001B[0m     \u001B[38;5;28;01mreturn\u001B[39;00m \u001B[43mforward_call\u001B[49m\u001B[43m(\u001B[49m\u001B[38;5;241;43m*\u001B[39;49m\u001B[43margs\u001B[49m\u001B[43m,\u001B[49m\u001B[43m \u001B[49m\u001B[38;5;241;43m*\u001B[39;49m\u001B[38;5;241;43m*\u001B[39;49m\u001B[43mkwargs\u001B[49m\u001B[43m)\u001B[49m\n\u001B[1;32m   1522\u001B[0m \u001B[38;5;28;01mtry\u001B[39;00m:\n\u001B[1;32m   1523\u001B[0m     result \u001B[38;5;241m=\u001B[39m \u001B[38;5;28;01mNone\u001B[39;00m\n",
      "File \u001B[0;32m~/Desktop/thesis/venv/lib/python3.12/site-packages/torch/nn/modules/batchnorm.py:175\u001B[0m, in \u001B[0;36m_BatchNorm.forward\u001B[0;34m(self, input)\u001B[0m\n\u001B[1;32m    168\u001B[0m     bn_training \u001B[38;5;241m=\u001B[39m (\u001B[38;5;28mself\u001B[39m\u001B[38;5;241m.\u001B[39mrunning_mean \u001B[38;5;129;01mis\u001B[39;00m \u001B[38;5;28;01mNone\u001B[39;00m) \u001B[38;5;129;01mand\u001B[39;00m (\u001B[38;5;28mself\u001B[39m\u001B[38;5;241m.\u001B[39mrunning_var \u001B[38;5;129;01mis\u001B[39;00m \u001B[38;5;28;01mNone\u001B[39;00m)\n\u001B[1;32m    170\u001B[0m \u001B[38;5;250m\u001B[39m\u001B[38;5;124mr\u001B[39m\u001B[38;5;124;03m\"\"\"\u001B[39;00m\n\u001B[1;32m    171\u001B[0m \u001B[38;5;124;03mBuffers are only updated if they are to be tracked and we are in training mode. Thus they only need to be\u001B[39;00m\n\u001B[1;32m    172\u001B[0m \u001B[38;5;124;03mpassed when the update should occur (i.e. in training mode when they are tracked), or when buffer stats are\u001B[39;00m\n\u001B[1;32m    173\u001B[0m \u001B[38;5;124;03mused for normalization (i.e. in eval mode when buffers are not None).\u001B[39;00m\n\u001B[1;32m    174\u001B[0m \u001B[38;5;124;03m\"\"\"\u001B[39;00m\n\u001B[0;32m--> 175\u001B[0m \u001B[38;5;28;01mreturn\u001B[39;00m \u001B[43mF\u001B[49m\u001B[38;5;241;43m.\u001B[39;49m\u001B[43mbatch_norm\u001B[49m\u001B[43m(\u001B[49m\n\u001B[1;32m    176\u001B[0m \u001B[43m    \u001B[49m\u001B[38;5;28;43minput\u001B[39;49m\u001B[43m,\u001B[49m\n\u001B[1;32m    177\u001B[0m \u001B[43m    \u001B[49m\u001B[38;5;66;43;03m# If buffers are not to be tracked, ensure that they won't be updated\u001B[39;49;00m\n\u001B[1;32m    178\u001B[0m \u001B[43m    \u001B[49m\u001B[38;5;28;43mself\u001B[39;49m\u001B[38;5;241;43m.\u001B[39;49m\u001B[43mrunning_mean\u001B[49m\n\u001B[1;32m    179\u001B[0m \u001B[43m    \u001B[49m\u001B[38;5;28;43;01mif\u001B[39;49;00m\u001B[43m \u001B[49m\u001B[38;5;129;43;01mnot\u001B[39;49;00m\u001B[43m \u001B[49m\u001B[38;5;28;43mself\u001B[39;49m\u001B[38;5;241;43m.\u001B[39;49m\u001B[43mtraining\u001B[49m\u001B[43m \u001B[49m\u001B[38;5;129;43;01mor\u001B[39;49;00m\u001B[43m \u001B[49m\u001B[38;5;28;43mself\u001B[39;49m\u001B[38;5;241;43m.\u001B[39;49m\u001B[43mtrack_running_stats\u001B[49m\n\u001B[1;32m    180\u001B[0m \u001B[43m    \u001B[49m\u001B[38;5;28;43;01melse\u001B[39;49;00m\u001B[43m \u001B[49m\u001B[38;5;28;43;01mNone\u001B[39;49;00m\u001B[43m,\u001B[49m\n\u001B[1;32m    181\u001B[0m \u001B[43m    \u001B[49m\u001B[38;5;28;43mself\u001B[39;49m\u001B[38;5;241;43m.\u001B[39;49m\u001B[43mrunning_var\u001B[49m\u001B[43m \u001B[49m\u001B[38;5;28;43;01mif\u001B[39;49;00m\u001B[43m \u001B[49m\u001B[38;5;129;43;01mnot\u001B[39;49;00m\u001B[43m \u001B[49m\u001B[38;5;28;43mself\u001B[39;49m\u001B[38;5;241;43m.\u001B[39;49m\u001B[43mtraining\u001B[49m\u001B[43m \u001B[49m\u001B[38;5;129;43;01mor\u001B[39;49;00m\u001B[43m \u001B[49m\u001B[38;5;28;43mself\u001B[39;49m\u001B[38;5;241;43m.\u001B[39;49m\u001B[43mtrack_running_stats\u001B[49m\u001B[43m \u001B[49m\u001B[38;5;28;43;01melse\u001B[39;49;00m\u001B[43m \u001B[49m\u001B[38;5;28;43;01mNone\u001B[39;49;00m\u001B[43m,\u001B[49m\n\u001B[1;32m    182\u001B[0m \u001B[43m    \u001B[49m\u001B[38;5;28;43mself\u001B[39;49m\u001B[38;5;241;43m.\u001B[39;49m\u001B[43mweight\u001B[49m\u001B[43m,\u001B[49m\n\u001B[1;32m    183\u001B[0m \u001B[43m    \u001B[49m\u001B[38;5;28;43mself\u001B[39;49m\u001B[38;5;241;43m.\u001B[39;49m\u001B[43mbias\u001B[49m\u001B[43m,\u001B[49m\n\u001B[1;32m    184\u001B[0m \u001B[43m    \u001B[49m\u001B[43mbn_training\u001B[49m\u001B[43m,\u001B[49m\n\u001B[1;32m    185\u001B[0m \u001B[43m    \u001B[49m\u001B[43mexponential_average_factor\u001B[49m\u001B[43m,\u001B[49m\n\u001B[1;32m    186\u001B[0m \u001B[43m    \u001B[49m\u001B[38;5;28;43mself\u001B[39;49m\u001B[38;5;241;43m.\u001B[39;49m\u001B[43meps\u001B[49m\u001B[43m,\u001B[49m\n\u001B[1;32m    187\u001B[0m \u001B[43m\u001B[49m\u001B[43m)\u001B[49m\n",
      "File \u001B[0;32m~/Desktop/thesis/venv/lib/python3.12/site-packages/torch/nn/functional.py:2482\u001B[0m, in \u001B[0;36mbatch_norm\u001B[0;34m(input, running_mean, running_var, weight, bias, training, momentum, eps)\u001B[0m\n\u001B[1;32m   2479\u001B[0m \u001B[38;5;28;01mif\u001B[39;00m training:\n\u001B[1;32m   2480\u001B[0m     _verify_batch_size(\u001B[38;5;28minput\u001B[39m\u001B[38;5;241m.\u001B[39msize())\n\u001B[0;32m-> 2482\u001B[0m \u001B[38;5;28;01mreturn\u001B[39;00m \u001B[43mtorch\u001B[49m\u001B[38;5;241;43m.\u001B[39;49m\u001B[43mbatch_norm\u001B[49m\u001B[43m(\u001B[49m\n\u001B[1;32m   2483\u001B[0m \u001B[43m    \u001B[49m\u001B[38;5;28;43minput\u001B[39;49m\u001B[43m,\u001B[49m\u001B[43m \u001B[49m\u001B[43mweight\u001B[49m\u001B[43m,\u001B[49m\u001B[43m \u001B[49m\u001B[43mbias\u001B[49m\u001B[43m,\u001B[49m\u001B[43m \u001B[49m\u001B[43mrunning_mean\u001B[49m\u001B[43m,\u001B[49m\u001B[43m \u001B[49m\u001B[43mrunning_var\u001B[49m\u001B[43m,\u001B[49m\u001B[43m \u001B[49m\u001B[43mtraining\u001B[49m\u001B[43m,\u001B[49m\u001B[43m \u001B[49m\u001B[43mmomentum\u001B[49m\u001B[43m,\u001B[49m\u001B[43m \u001B[49m\u001B[43meps\u001B[49m\u001B[43m,\u001B[49m\u001B[43m \u001B[49m\u001B[43mtorch\u001B[49m\u001B[38;5;241;43m.\u001B[39;49m\u001B[43mbackends\u001B[49m\u001B[38;5;241;43m.\u001B[39;49m\u001B[43mcudnn\u001B[49m\u001B[38;5;241;43m.\u001B[39;49m\u001B[43menabled\u001B[49m\n\u001B[1;32m   2484\u001B[0m \u001B[43m\u001B[49m\u001B[43m)\u001B[49m\n",
      "\u001B[0;31mKeyboardInterrupt\u001B[0m: "
     ]
    }
   ],
   "source": [
    "train(\n",
    "            model_config=configs['model_config'],\n",
    "            train_config=configs['train_config'],\n",
    "            shared_config=configs['shared_config'],\n",
    "            train_dl=get_commentary_dataloader(configs['train_data_config'], configs['shared_config'])[0],\n",
    "            val_dl=get_commentary_dataloader(configs['valid_data_config'], configs['shared_config'])[0],\n",
    "            test_ds=CommentaryDataset(configs['test_data_config'], configs['shared_config']),\n",
    "            predictor=Predictor(configs['shared_config'])\n",
    "        )"
   ],
   "metadata": {
    "collapsed": false,
    "ExecuteTime": {
     "end_time": "2024-02-17T13:10:34.201187828Z",
     "start_time": "2024-02-17T13:09:30.008477964Z"
    }
   },
   "id": "be23b94300f464fa",
   "execution_count": 15
  },
  {
   "cell_type": "code",
   "outputs": [],
   "source": [],
   "metadata": {
    "collapsed": false
   },
   "id": "bb63a8e9bb5d03d4"
  }
 ],
 "metadata": {
  "kernelspec": {
   "display_name": "Python 3",
   "language": "python",
   "name": "python3"
  },
  "language_info": {
   "codemirror_mode": {
    "name": "ipython",
    "version": 2
   },
   "file_extension": ".py",
   "mimetype": "text/x-python",
   "name": "python",
   "nbconvert_exporter": "python",
   "pygments_lexer": "ipython2",
   "version": "2.7.6"
  }
 },
 "nbformat": 4,
 "nbformat_minor": 5
}

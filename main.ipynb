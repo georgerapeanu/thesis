{
 "cells": [
  {
   "cell_type": "code",
   "execution_count": 1,
   "id": "initial_id",
   "metadata": {
    "collapsed": true,
    "ExecuteTime": {
     "end_time": "2024-02-11T16:54:13.288772945Z",
     "start_time": "2024-02-11T16:54:12.165702403Z"
    }
   },
   "outputs": [],
   "source": [
    "import wandb\n",
    "import torch\n",
    "from model.train import train\n",
    "from utils.configs import *\n",
    "from data.CommentaryDataloader import get_commentary_dataloader\n",
    "from data.CommentaryDataset import CommentaryDataset\n",
    "from model.predict import Predictor"
   ]
  },
  {
   "cell_type": "code",
   "outputs": [],
   "source": [
    "def get_configs_from_wandb_config(wandb_config: WandbConfig, is_real_wandb: bool):\n",
    "    shared_config: SharedConfig = {\n",
    "        'context_length': wandb_config['context_length'],\n",
    "        'sentencepiece_path': f\"./artifacts/sp{wandb_config['sp_vocab']}.model\",\n",
    "        'bos_id': 0, # will be initialized later\n",
    "        'eos_id': 1, # will be initialized later\n",
    "        'pad_id': 2, # will be initialized later\n",
    "        'vocab_size': 0 # will be initialized later\n",
    "    }\n",
    "    \n",
    "    train_data_config: DataConfig = {\n",
    "        'batch_size': wandb_config['batch_size'],\n",
    "        'split': 'train',\n",
    "        'data_path': './processed_data',\n",
    "        'past_boards': wandb_config['past_boards'],\n",
    "        'stride_big_sequences': wandb_config['stride_big_sequences'],\n",
    "        'in_memory': False,\n",
    "        'dl_shuffle': False,\n",
    "        'dl_samples': wandb_config['samples_per_train_epoch'],\n",
    "        'dl_num_workers': 2,\n",
    "    }\n",
    "    \n",
    "    valid_data_config: DataConfig = {\n",
    "        'batch_size': wandb_config['batch_size'],\n",
    "        'split': 'valid',\n",
    "        'data_path': './processed_data',\n",
    "        'past_boards': wandb_config['past_boards'],\n",
    "        'stride_big_sequences': wandb_config['stride_big_sequences'],\n",
    "        'in_memory': True,\n",
    "        'dl_shuffle': True,\n",
    "        'dl_samples': None,\n",
    "        'dl_num_workers': 1,\n",
    "    }\n",
    "    \n",
    "    test_data_config: DataConfig = {\n",
    "        'batch_size': wandb_config['batch_size'],\n",
    "        'split': 'valid',\n",
    "        'data_path': './processed_data',\n",
    "        'past_boards': wandb_config['past_boards'],\n",
    "        'stride_big_sequences': wandb_config['stride_big_sequences'],\n",
    "        'in_memory': False,\n",
    "        'dl_shuffle': False,\n",
    "        'dl_samples': None,\n",
    "        'dl_num_workers': 0,\n",
    "    }\n",
    "    \n",
    "    model_config: ModelConfig = {\n",
    "        'board_embedding_size': wandb_config['board_embedding_size'],\n",
    "        'text_embedding_size': wandb_config['text_embedding_size'],\n",
    "        'conv_modules_count': wandb_config['conv_modules_count'],\n",
    "        'transformer_blocks': wandb_config['transformer_blocks'],\n",
    "        'board_intermediary_channels': wandb_config['board_intermediary_channels'],\n",
    "        'board_in_channels': CommentaryDataset.get_board_channels(train_data_config),\n",
    "        'board_height': 8,\n",
    "        'board_width': 8,\n",
    "        'board_depth': wandb_config['board_embedding_size'],\n",
    "        'ff_inner_channels': wandb_config['ff_inner_channels'],\n",
    "        'num_heads': wandb_config['num_heads']\n",
    "    }\n",
    "    \n",
    "    if wandb_config['optimizer'] not in ['adam', 'sgd']:\n",
    "        raise ValueError('Optimizer value invalid')\n",
    "    \n",
    "    train_config: TrainConfig = {\n",
    "        'lr': wandb_config['lr'],\n",
    "        'with_wandb': is_real_wandb,\n",
    "        'num_epochs': wandb_config['num_epochs'],\n",
    "        'predict_sentences': wandb_config['predict_sentences'],\n",
    "        'optimizer': Optimizers.ADAM if wandb_config['optimizer'] == 'adam' else Optimizers.SGD\n",
    "    }\n",
    "    \n",
    "    return {\n",
    "        'shared_config': shared_config,\n",
    "        'train_config': train_config,\n",
    "        'model_config': model_config,\n",
    "        'test_data_config': test_data_config,\n",
    "        'train_data_config': train_data_config,\n",
    "        'valid_data_config': valid_data_config\n",
    "    }     "
   ],
   "metadata": {
    "collapsed": false,
    "ExecuteTime": {
     "end_time": "2024-02-11T16:54:13.293880592Z",
     "start_time": "2024-02-11T16:54:13.291377803Z"
    }
   },
   "id": "823d055de6f736e8",
   "execution_count": 2
  },
  {
   "cell_type": "code",
   "outputs": [],
   "source": [
    "local_wandb_config: WandbConfig = {\n",
    "    'text_embedding_size': 64,\n",
    "    'conv_modules_count': 1,\n",
    "    'transformer_blocks': 1,\n",
    "    'board_intermediary_channels': 64,\n",
    "    'board_embedding_size': 64,\n",
    "    'ff_inner_channels': 64,\n",
    "    'num_heads': 4,\n",
    "    'lr': 0.01,\n",
    "    'optimizer': 'adam',\n",
    "    'num_epochs': 10,\n",
    "    'context_length': 64,\n",
    "    'sp_vocab': 800,\n",
    "    'batch_size': 64,\n",
    "    'past_boards': 1,\n",
    "    'stride_big_sequences': 64,\n",
    "    'samples_per_train_epoch': 20,\n",
    "    'predict_sentences': 4\n",
    "}"
   ],
   "metadata": {
    "collapsed": false,
    "ExecuteTime": {
     "end_time": "2024-02-11T16:54:21.157761337Z",
     "start_time": "2024-02-11T16:54:21.151658795Z"
    }
   },
   "id": "f6b9264bb5d3bfc7",
   "execution_count": 6
  },
  {
   "cell_type": "code",
   "outputs": [],
   "source": [
    "configs = get_configs_from_wandb_config(local_wandb_config, False)"
   ],
   "metadata": {
    "collapsed": false,
    "ExecuteTime": {
     "end_time": "2024-02-11T16:54:21.826694005Z",
     "start_time": "2024-02-11T16:54:21.825490063Z"
    }
   },
   "id": "2a7a019ea39610e4",
   "execution_count": 7
  },
  {
   "cell_type": "code",
   "outputs": [],
   "source": [
    "train(\n",
    "    model_config=configs['model_config'],\n",
    "    train_config=configs['train_config'],\n",
    "    train_dl=get_commentary_dataloader(configs['train_data_config'], configs['shared_config']),\n",
    "    val_dl=get_commentary_dataloader(configs['valid_data_config'], configs['shared_config']),\n",
    "    test_ds=CommentaryDataset(configs['test_data_config'], configs['shared_config']),\n",
    "    predictor=Predictor(configs['shared_config'])\n",
    ")"
   ],
   "metadata": {
    "collapsed": false,
    "is_executing": true,
    "ExecuteTime": {
     "start_time": "2024-02-11T16:54:22.124879061Z"
    }
   },
   "id": "79fd132c06e5dfbd",
   "execution_count": null
  },
  {
   "cell_type": "code",
   "outputs": [],
   "source": [],
   "metadata": {
    "collapsed": false
   },
   "id": "90830bdd67274a3d"
  }
 ],
 "metadata": {
  "kernelspec": {
   "display_name": "Python 3",
   "language": "python",
   "name": "python3"
  },
  "language_info": {
   "codemirror_mode": {
    "name": "ipython",
    "version": 2
   },
   "file_extension": ".py",
   "mimetype": "text/x-python",
   "name": "python",
   "nbconvert_exporter": "python",
   "pygments_lexer": "ipython2",
   "version": "2.7.6"
  }
 },
 "nbformat": 4,
 "nbformat_minor": 5
}

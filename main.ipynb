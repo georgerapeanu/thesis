{
 "cells": [
  {
   "cell_type": "code",
   "execution_count": 2,
   "id": "initial_id",
   "metadata": {
    "collapsed": true,
    "ExecuteTime": {
     "end_time": "2024-02-12T07:16:14.462516350Z",
     "start_time": "2024-02-12T07:16:13.145159732Z"
    }
   },
   "outputs": [],
   "source": [
    "from wandb.sdk import wandb_config\n",
    "\n",
    "import wandb\n",
    "import torch\n",
    "from model.train import train\n",
    "from utils.configs import *\n",
    "from data.CommentaryDataloader import get_commentary_dataloader\n",
    "from data.CommentaryDataset import CommentaryDataset\n",
    "from model.predict import Predictor\n",
    "import wandb"
   ]
  },
  {
   "cell_type": "code",
   "outputs": [],
   "source": [
    "def get_configs_from_wandb_config(wandb_config: WandbConfig, is_real_wandb: bool):\n",
    "    shared_config: SharedConfig = {\n",
    "        'context_length': wandb_config['context_length'],\n",
    "        'sentencepiece_path': f\"./artifacts/sp{wandb_config['sp_vocab']}.model\",\n",
    "        'bos_id': 0, # will be initialized later\n",
    "        'eos_id': 1, # will be initialized later\n",
    "        'pad_id': 2, # will be initialized later\n",
    "        'vocab_size': 0 # will be initialized later\n",
    "    }\n",
    "    \n",
    "    train_data_config: DataConfig = {\n",
    "        'batch_size': wandb_config['batch_size'],\n",
    "        'split': 'train',\n",
    "        'data_path': './processed_data',\n",
    "        'past_boards': wandb_config['past_boards'],\n",
    "        'stride_big_sequences': wandb_config['stride_big_sequences'],\n",
    "        'in_memory': False,\n",
    "        'dl_shuffle': False,\n",
    "        'dl_samples': wandb_config['samples_per_train_epoch'],\n",
    "        'dl_num_workers': 2,\n",
    "    }\n",
    "    \n",
    "    valid_data_config: DataConfig = {\n",
    "        'batch_size': wandb_config['batch_size'],\n",
    "        'split': 'valid',\n",
    "        'data_path': './processed_data',\n",
    "        'past_boards': wandb_config['past_boards'],\n",
    "        'stride_big_sequences': wandb_config['stride_big_sequences'],\n",
    "        'in_memory': True,\n",
    "        'dl_shuffle': True,\n",
    "        'dl_samples': None,\n",
    "        'dl_num_workers': 1,\n",
    "    }\n",
    "    \n",
    "    test_data_config: DataConfig = {\n",
    "        'batch_size': wandb_config['batch_size'],\n",
    "        'split': 'valid',\n",
    "        'data_path': './processed_data',\n",
    "        'past_boards': wandb_config['past_boards'],\n",
    "        'stride_big_sequences': wandb_config['stride_big_sequences'],\n",
    "        'in_memory': False,\n",
    "        'dl_shuffle': False,\n",
    "        'dl_samples': None,\n",
    "        'dl_num_workers': 0,\n",
    "    }\n",
    "    \n",
    "    model_config: ModelConfig = {\n",
    "        'board_embedding_size': wandb_config['board_embedding_size'],\n",
    "        'text_embedding_size': wandb_config['text_embedding_size'],\n",
    "        'conv_modules_count': wandb_config['conv_modules_count'],\n",
    "        'transformer_blocks': wandb_config['transformer_blocks'],\n",
    "        'board_intermediary_channels': wandb_config['board_intermediary_channels'],\n",
    "        'board_in_channels': CommentaryDataset.get_board_channels(train_data_config),\n",
    "        'board_height': 8,\n",
    "        'board_width': 8,\n",
    "        'board_depth': wandb_config['board_embedding_size'],\n",
    "        'ff_inner_channels': wandb_config['ff_inner_channels'],\n",
    "        'num_heads': wandb_config['num_heads']\n",
    "    }\n",
    "    \n",
    "    if wandb_config['optimizer'] not in ['adam', 'sgd']:\n",
    "        raise ValueError('Optimizer value invalid')\n",
    "    \n",
    "    train_config: TrainConfig = {\n",
    "        'lr': wandb_config['lr'],\n",
    "        'with_wandb': is_real_wandb,\n",
    "        'num_epochs': wandb_config['num_epochs'],\n",
    "        'predict_sentences': wandb_config['predict_sentences'],\n",
    "        'optimizer': Optimizers.ADAM if wandb_config['optimizer'] == 'adam' else Optimizers.SGD\n",
    "    }\n",
    "    \n",
    "    return {\n",
    "        'shared_config': shared_config,\n",
    "        'train_config': train_config,\n",
    "        'model_config': model_config,\n",
    "        'test_data_config': test_data_config,\n",
    "        'train_data_config': train_data_config,\n",
    "        'valid_data_config': valid_data_config\n",
    "    }     "
   ],
   "metadata": {
    "collapsed": false,
    "ExecuteTime": {
     "end_time": "2024-02-12T07:16:14.468059126Z",
     "start_time": "2024-02-12T07:16:14.465735632Z"
    }
   },
   "id": "823d055de6f736e8",
   "execution_count": 3
  },
  {
   "cell_type": "code",
   "outputs": [],
   "source": [
    "# local_wandb_config: WandbConfig = {\n",
    "#     'text_embedding_size': 64,\n",
    "#     'conv_modules_count': 6,\n",
    "#     'transformer_blocks': 6,\n",
    "#     'board_intermediary_channels': 64,\n",
    "#     'board_embedding_size': 64,\n",
    "#     'ff_inner_channels': 64,\n",
    "#     'num_heads': 4,\n",
    "#     'lr': 0.01,\n",
    "#     'optimizer': 'sgd',\n",
    "#     'num_epochs': 200,\n",
    "#     'context_length': 256,\n",
    "#     'sp_vocab': 800,\n",
    "#     'batch_size': 64,\n",
    "#     'past_boards': 1,\n",
    "#     'stride_big_sequences': 64,\n",
    "#     'samples_per_train_epoch': 100000,\n",
    "#     'predict_sentences': 4\n",
    "# }\n",
    "\n",
    "sweep_config = {\n",
    "    \"method\": \"random\",\n",
    "    \"metric\": {\"goal\": \"minimize\", \"name\": \"val_loss\"},\n",
    "    \"parameters\": {\n",
    "        'text_embedding_size': {\"distribution\": \"q_log_uniform_values\", \"min\": 64, \"max\": 256, \"q\": 64},\n",
    "        'conv_modules_count': {\"values\": [1, 2, 3, 4, 6]},\n",
    "        'transformer_blocks': {\"values\": [1, 2, 3, 4, 6]},\n",
    "        'board_intermediary_channels': {\"distribution\": \"q_log_uniform_values\", \"min\": 64, \"max\": 512, \"q\": 64},\n",
    "        'board_embedding_size': {\"distribution\": \"q_log_uniform_values\", \"min\": 64, \"max\": 256, \"q\": 64},\n",
    "        'ff_inner_channels': {\"distribution\": \"q_log_uniform_values\", \"min\": 64, \"max\": 512, \"q\": 64},\n",
    "        'num_heads': {\"distribution\": \"q_log_uniform_values\", \"min\": 4, \"max\": 8, \"q\": 4},\n",
    "        'lr': {\"distribution\": \"uniform\", \"max\": 0.1, \"min\": 0},\n",
    "        'optimizer': {\"values\": ['sgd', 'adam']},\n",
    "        'num_epochs': {\"values\": [2, 3, 4]},\n",
    "        'context_length': {\"distribution\": \"q_log_uniform_values\", \"min\": 64, \"max\": 512, \"q\": 64},\n",
    "        'sp_vocab': {\"values\": [700, 800, 900]},\n",
    "        'batch_size': {\"distribution\": \"q_log_uniform_values\", \"min\": 64, \"max\": 256, \"q\": 64},\n",
    "        'past_boards': {\"values\": [0, 1, 2]},\n",
    "        'stride_big_sequences': {\"values\": [256, 512]},\n",
    "        'samples_per_train_epoch': {\"values\": [10000, 100000]},\n",
    "        'predict_sentences': {\"values\": [10]}\n",
    "    }\n",
    "}"
   ],
   "metadata": {
    "collapsed": false,
    "ExecuteTime": {
     "end_time": "2024-02-12T07:16:21.128832754Z",
     "start_time": "2024-02-12T07:16:21.127244472Z"
    }
   },
   "id": "f6b9264bb5d3bfc7",
   "execution_count": 4
  },
  {
   "cell_type": "code",
   "outputs": [],
   "source": [
    "def run(): \n",
    "    with wandb.init(project=\"thesis\"):\n",
    "        configs = get_configs_from_wandb_config(wandb.config, True)\n",
    "        train(\n",
    "            model_config=configs['model_config'],\n",
    "            train_config=configs['train_config'],\n",
    "            shared_config=configs['shared_config'],\n",
    "            train_dl=get_commentary_dataloader(configs['train_data_config'], configs['shared_config'])[0],\n",
    "            val_dl=get_commentary_dataloader(configs['valid_data_config'], configs['shared_config'])[0],\n",
    "            test_ds=CommentaryDataset(configs['test_data_config'], configs['shared_config']),\n",
    "            predictor=Predictor(configs['shared_config'])\n",
    "        )"
   ],
   "metadata": {
    "collapsed": false,
    "ExecuteTime": {
     "end_time": "2024-02-12T07:16:23.813450873Z",
     "start_time": "2024-02-12T07:16:23.811785949Z"
    }
   },
   "id": "82d09924b37aa7fb",
   "execution_count": 5
  },
  {
   "cell_type": "code",
   "outputs": [
    {
     "name": "stdout",
     "output_type": "stream",
     "text": [
      "Create sweep with ID: pn71zvlz\n",
      "Sweep URL: https://wandb.ai/georgerapeanu/thesis/sweeps/pn71zvlz\n"
     ]
    }
   ],
   "source": [
    "sweep_id = wandb.sweep(sweep_config, project = 'thesis')\n"
   ],
   "metadata": {
    "collapsed": false,
    "ExecuteTime": {
     "end_time": "2024-02-12T07:16:53.109784166Z",
     "start_time": "2024-02-12T07:16:27.245502704Z"
    }
   },
   "id": "dcaa70e2811a34b0",
   "execution_count": 6
  },
  {
   "cell_type": "code",
   "outputs": [],
   "source": [
    "wandb.agent(sweep_id, function=run)"
   ],
   "metadata": {
    "collapsed": false
   },
   "id": "2a7a019ea39610e4",
   "execution_count": null
  },
  {
   "cell_type": "code",
   "outputs": [],
   "source": [
    "    "
   ],
   "metadata": {
    "collapsed": false,
    "ExecuteTime": {
     "end_time": "2024-02-11T18:48:22.430135401Z",
     "start_time": "2024-02-11T18:48:22.423606920Z"
    }
   },
   "id": "79fd132c06e5dfbd",
   "execution_count": 4
  },
  {
   "cell_type": "code",
   "outputs": [],
   "source": [],
   "metadata": {
    "collapsed": false,
    "ExecuteTime": {
     "end_time": "2024-02-11T18:48:22.430387472Z",
     "start_time": "2024-02-11T18:48:22.426370717Z"
    }
   },
   "id": "90830bdd67274a3d",
   "execution_count": 4
  }
 ],
 "metadata": {
  "kernelspec": {
   "display_name": "Python 3",
   "language": "python",
   "name": "python3"
  },
  "language_info": {
   "codemirror_mode": {
    "name": "ipython",
    "version": 2
   },
   "file_extension": ".py",
   "mimetype": "text/x-python",
   "name": "python",
   "nbconvert_exporter": "python",
   "pygments_lexer": "ipython2",
   "version": "2.7.6"
  }
 },
 "nbformat": 4,
 "nbformat_minor": 5
}

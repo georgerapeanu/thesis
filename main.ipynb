{
 "cells": [
  {
   "cell_type": "code",
   "execution_count": 1,
   "id": "initial_id",
   "metadata": {
    "collapsed": true,
    "ExecuteTime": {
     "end_time": "2024-02-22T15:05:34.930265928Z",
     "start_time": "2024-02-22T15:05:33.366775604Z"
    }
   },
   "outputs": [],
   "source": [
    "from wandb.sdk import wandb_config\n",
    "\n",
    "import wandb\n",
    "import torch\n",
    "from model.train import train\n",
    "from utils.configs import *\n",
    "from data.CommentaryDataloader import get_commentary_dataloader\n",
    "from data.CommentaryDataset import CommentaryDataset\n",
    "from model.predict import Predictor\n",
    "import wandb"
   ]
  },
  {
   "cell_type": "code",
   "outputs": [],
   "source": [
    "def get_configs_from_wandb_config(wandb_config: WandbConfig, is_real_wandb: bool):\n",
    "    if wandb_config['model_name'] not in ['model', 'model_residual_encoder', 'model_multihead']:\n",
    "        raise ValueError('Model should be model or model_residual_encoder')\n",
    "    \n",
    "    shared_config: SharedConfig = {\n",
    "        'context_length': wandb_config['context_length'],\n",
    "        'sentencepiece_path': f\"./artifacts/sp{wandb_config['sp_vocab']}.model\",\n",
    "        'bos_id': 0, # will be initialized later\n",
    "        'eos_id': 1, # will be initialized later\n",
    "        'pad_id': 2, # will be initialized later\n",
    "        'vocab_size': 0, # will be initialized later\n",
    "        'target_types': wandb_config['target_types']\n",
    "    }\n",
    "    \n",
    "    train_data_config: DataConfig = {\n",
    "        'batch_size': wandb_config['batch_size'],\n",
    "        'split': 'train',\n",
    "        'data_path': './processed_data',\n",
    "        'past_boards': wandb_config['past_boards'],\n",
    "        'stride_big_sequences': wandb_config['stride_big_sequences'],\n",
    "        'in_memory': False,\n",
    "        'dl_shuffle': False,\n",
    "        'dl_samples': wandb_config['samples_per_train_epoch'],\n",
    "        'dl_num_workers': 2,\n",
    "    }\n",
    "    \n",
    "    valid_data_config: DataConfig = {\n",
    "        'batch_size': wandb_config['batch_size'],\n",
    "        'split': 'valid',\n",
    "        'data_path': './processed_data',\n",
    "        'past_boards': wandb_config['past_boards'],\n",
    "        'stride_big_sequences': wandb_config['stride_big_sequences'],\n",
    "        'in_memory': True,\n",
    "        'dl_shuffle': True,\n",
    "        'dl_samples': None,\n",
    "        'dl_num_workers': 1,\n",
    "    }\n",
    "    \n",
    "    test_data_config: DataConfig = {\n",
    "        'batch_size': wandb_config['batch_size'],\n",
    "        'split': 'valid',\n",
    "        'data_path': './processed_data',\n",
    "        'past_boards': wandb_config['past_boards'],\n",
    "        'stride_big_sequences': wandb_config['stride_big_sequences'],\n",
    "        'in_memory': False,\n",
    "        'dl_shuffle': False,\n",
    "        'dl_samples': None,\n",
    "        'dl_num_workers': 0,\n",
    "    }\n",
    "    if wandb_config['model_name'] in ['model_residual_encoder', 'model']:\n",
    "        model_config: ModelConfig = {\n",
    "            'name': Models.MODEL_RESIDUAL_ENCODER if wandb_config['model_name'] == 'model_residual_encoder' else Models.MODEL,\n",
    "            'board_embedding_size': wandb_config['board_embedding_size'],\n",
    "            'text_embedding_size': wandb_config['text_embedding_size'],\n",
    "            'conv_modules_count': wandb_config['conv_modules_count'],\n",
    "            'transformer_blocks': wandb_config['transformer_blocks'],\n",
    "            'board_intermediary_channels': wandb_config['board_intermediary_channels'],\n",
    "            'board_in_channels': CommentaryDataset.get_board_channels(train_data_config),\n",
    "            'board_height': 8,\n",
    "            'board_width': 8,\n",
    "            'board_depth': wandb_config['board_embedding_size'],\n",
    "            'ff_inner_channels': wandb_config['ff_inner_channels'],\n",
    "            'num_heads': wandb_config['num_heads']\n",
    "        }\n",
    "    else:\n",
    "        model_config: MultiHeadConfig = {\n",
    "            'name': Models.MODEL_MULTIPLE_HEADS,\n",
    "            'board_embedding_size': wandb_config['board_embedding_size'],\n",
    "            'text_embedding_size': wandb_config['text_embedding_size'],\n",
    "            'transformer_blocks': wandb_config['transformer_blocks'],\n",
    "            'board_intermediary_channels': wandb_config['board_intermediary_channels'],\n",
    "            'board_in_channels': CommentaryDataset.get_board_channels(train_data_config),\n",
    "            'board_height': 8,\n",
    "            'board_width': 8,\n",
    "            'board_depth': wandb_config['board_embedding_size'],\n",
    "            'ff_inner_channels': wandb_config['ff_inner_channels'],\n",
    "            'num_heads': wandb_config['num_heads'],\n",
    "            'target_types_and_depth': wandb_config['target_types_and_depth']\n",
    "        }\n",
    "    \n",
    "    if wandb_config['optimizer'] not in ['adam', 'sgd']:\n",
    "        raise ValueError('Optimizer value invalid')\n",
    "    \n",
    "    train_config: TrainConfig = {\n",
    "        'lr': wandb_config['lr'],\n",
    "        'with_wandb': is_real_wandb,\n",
    "        'num_epochs': wandb_config['num_epochs'],\n",
    "        'predict_sentences': wandb_config['predict_sentences'],\n",
    "        'optimizer': Optimizers.ADAM if wandb_config['optimizer'] == 'adam' else Optimizers.SGD\n",
    "    }\n",
    "    \n",
    "    return {\n",
    "        'shared_config': shared_config,\n",
    "        'train_config': train_config,\n",
    "        'model_config': model_config,\n",
    "        'test_data_config': test_data_config,\n",
    "        'train_data_config': train_data_config,\n",
    "        'valid_data_config': valid_data_config\n",
    "    }     "
   ],
   "metadata": {
    "collapsed": false,
    "ExecuteTime": {
     "end_time": "2024-02-22T15:05:34.931783290Z",
     "start_time": "2024-02-22T15:05:34.929445563Z"
    }
   },
   "id": "823d055de6f736e8",
   "execution_count": 2
  },
  {
   "cell_type": "code",
   "outputs": [],
   "source": [
    "# local_wandb_config: WandbConfig = {\n",
    "#     'model_name': 'model',\n",
    "#     'text_embedding_size': 64,\n",
    "#     'conv_modules_count': 6,\n",
    "#     'transformer_blocks': 6,\n",
    "#     'board_intermediary_channels': 64,\n",
    "#     'board_embedding_size': 64,\n",
    "#     'ff_inner_channels': 64,\n",
    "#     'num_heads': 4,\n",
    "#     'lr': 0.01,\n",
    "#     'optimizer': 'sgd',\n",
    "#     'num_epochs': 200,\n",
    "#     'context_length': 256,\n",
    "#     'sp_vocab': 800,\n",
    "#     'batch_size': 64,\n",
    "#     'past_boards': 1,\n",
    "#     'stride_big_sequences': 64,\n",
    "#     'samples_per_train_epoch': 100000,\n",
    "#     'predict_sentences': 4,\n",
    "#     'target_types': [0]\n",
    "# }\n",
    "\n",
    "sweep_config = {\n",
    "    \"method\": \"random\",\n",
    "    \"metric\": {\"goal\": \"minimize\", \"name\": \"val_loss\"},\n",
    "    \"parameters\": {\n",
    "        'model_name': {\"values\": ['model_residual_encoder', 'model'] },\n",
    "        'text_embedding_size': {\"distribution\": \"q_log_uniform_values\", \"min\": 64, \"max\": 256, \"q\": 64},\n",
    "        'conv_modules_count': {\"values\": [1, 2, 3, 4]},\n",
    "        'transformer_blocks': {\"values\": [1, 2, 3, 4]},\n",
    "        'board_intermediary_channels': {\"distribution\": \"q_log_uniform_values\", \"min\": 64, \"max\": 512, \"q\": 64},\n",
    "        'board_embedding_size': {\"distribution\": \"q_log_uniform_values\", \"min\": 64, \"max\": 256, \"q\": 64},\n",
    "        'ff_inner_channels': {\"distribution\": \"q_log_uniform_values\", \"min\": 64, \"max\": 512, \"q\": 64},\n",
    "        'num_heads': {\"distribution\": \"q_log_uniform_values\", \"min\": 4, \"max\": 8, \"q\": 4},\n",
    "        'lr': {\"distribution\": \"uniform\", \"max\": 0.4, \"min\": 0},\n",
    "        'optimizer': {\"values\": ['sgd', 'adam']},\n",
    "        'num_epochs': {\"values\": [2, 3, 4]},\n",
    "        'context_length': {\"distribution\": \"q_log_uniform_values\", \"min\": 64, \"max\": 512, \"q\": 64},\n",
    "        'sp_vocab': {\"values\": [700, 800, 900]},\n",
    "        'batch_size': {\"distribution\": \"q_log_uniform_values\", \"min\": 64, \"max\": 256, \"q\": 64},\n",
    "        'past_boards': {\"values\": [0, 1, 2]},\n",
    "        'stride_big_sequences': {\"values\": [256, 512]},\n",
    "        'samples_per_train_epoch': {\"values\": [10000, 100000]},\n",
    "        'predict_sentences': {\"values\": [10]},\n",
    "        'target_types': {\"values\": [[0]]}\n",
    "    }\n",
    "}"
   ],
   "metadata": {
    "collapsed": false,
    "ExecuteTime": {
     "end_time": "2024-02-18T12:56:05.109748328Z",
     "start_time": "2024-02-18T12:56:05.105003365Z"
    }
   },
   "id": "f6b9264bb5d3bfc7",
   "execution_count": 3
  },
  {
   "cell_type": "code",
   "outputs": [],
   "source": [
    "def run(): \n",
    "    with wandb.init(project=\"thesis\"):\n",
    "        configs = get_configs_from_wandb_config(wandb.config, True)\n",
    "        train(\n",
    "            model_config=configs['model_config'],\n",
    "            train_config=configs['train_config'],\n",
    "            shared_config=configs['shared_config'],\n",
    "            train_dl=get_commentary_dataloader(configs['train_data_config'], configs['shared_config'])[0],\n",
    "            val_dl=get_commentary_dataloader(configs['valid_data_config'], configs['shared_config'])[0],\n",
    "            test_ds=CommentaryDataset(configs['test_data_config'], configs['shared_config']),\n",
    "            predictor=Predictor(configs['shared_config'])\n",
    "        )"
   ],
   "metadata": {
    "collapsed": false,
    "ExecuteTime": {
     "end_time": "2024-02-15T14:27:38.289949881Z",
     "start_time": "2024-02-15T14:27:38.288871787Z"
    }
   },
   "id": "82d09924b37aa7fb",
   "execution_count": 4
  },
  {
   "cell_type": "code",
   "outputs": [
    {
     "name": "stdout",
     "output_type": "stream",
     "text": [
      "Create sweep with ID: pj49gpx4\n",
      "Sweep URL: https://wandb.ai/georgerapeanu/thesis/sweeps/pj49gpx4\n"
     ]
    }
   ],
   "source": [
    "sweep_id = wandb.sweep(sweep_config, project = 'thesis')\n"
   ],
   "metadata": {
    "collapsed": false,
    "ExecuteTime": {
     "end_time": "2024-02-15T14:27:41.518595490Z",
     "start_time": "2024-02-15T14:27:38.289982702Z"
    }
   },
   "id": "dcaa70e2811a34b0",
   "execution_count": 5
  },
  {
   "cell_type": "code",
   "outputs": [],
   "source": [
    "wandb.agent(sweep_id, function=run)"
   ],
   "metadata": {
    "collapsed": false
   },
   "id": "2a7a019ea39610e4",
   "execution_count": null
  },
  {
   "cell_type": "code",
   "outputs": [],
   "source": [
    "local_wandb_config: WandbConfig = {\n",
    "    'model_name': 'model_multihead',\n",
    "    'text_embedding_size': 64,\n",
    "    'conv_modules_count': 6,\n",
    "    'transformer_blocks': 6,\n",
    "    'board_intermediary_channels': 64,\n",
    "    'board_embedding_size': 64,\n",
    "    'ff_inner_channels': 64,\n",
    "    'num_heads': 4,\n",
    "    'lr': 0.01,\n",
    "    'optimizer': 'sgd',\n",
    "    'num_epochs': 200,\n",
    "    'context_length': 256,\n",
    "    'sp_vocab': 800,\n",
    "    'batch_size': 64,\n",
    "    'past_boards': 1,\n",
    "    'stride_big_sequences': 64,\n",
    "    'samples_per_train_epoch': 100,\n",
    "    'predict_sentences': 4,\n",
    "    'target_types': [5],\n",
    "    'target_types_and_depth': [(0, 1), (1, 2), (2, 3), (4, 4), (3, 5)]\n",
    "}"
   ],
   "metadata": {
    "collapsed": false,
    "ExecuteTime": {
     "end_time": "2024-02-22T15:07:27.402933323Z",
     "start_time": "2024-02-22T15:07:27.397338640Z"
    }
   },
   "id": "53fa01912c475c08",
   "execution_count": 28
  },
  {
   "cell_type": "code",
   "outputs": [],
   "source": [
    "configs = get_configs_from_wandb_config(local_wandb_config, False)"
   ],
   "metadata": {
    "collapsed": false,
    "ExecuteTime": {
     "end_time": "2024-02-22T15:07:27.575964847Z",
     "start_time": "2024-02-22T15:07:27.574320249Z"
    }
   },
   "id": "54e4b77ca08d8fe5",
   "execution_count": 29
  },
  {
   "cell_type": "code",
   "outputs": [
    {
     "ename": "KeyboardInterrupt",
     "evalue": "",
     "output_type": "error",
     "traceback": [
      "\u001B[0;31m---------------------------------------------------------------------------\u001B[0m",
      "\u001B[0;31mKeyboardInterrupt\u001B[0m                         Traceback (most recent call last)",
      "Cell \u001B[0;32mIn[30], line 5\u001B[0m\n\u001B[1;32m      1\u001B[0m train(\n\u001B[1;32m      2\u001B[0m             model_config\u001B[38;5;241m=\u001B[39mconfigs[\u001B[38;5;124m'\u001B[39m\u001B[38;5;124mmodel_config\u001B[39m\u001B[38;5;124m'\u001B[39m],\n\u001B[1;32m      3\u001B[0m             train_config\u001B[38;5;241m=\u001B[39mconfigs[\u001B[38;5;124m'\u001B[39m\u001B[38;5;124mtrain_config\u001B[39m\u001B[38;5;124m'\u001B[39m],\n\u001B[1;32m      4\u001B[0m             shared_config\u001B[38;5;241m=\u001B[39mconfigs[\u001B[38;5;124m'\u001B[39m\u001B[38;5;124mshared_config\u001B[39m\u001B[38;5;124m'\u001B[39m],\n\u001B[0;32m----> 5\u001B[0m             train_dl\u001B[38;5;241m=\u001B[39m\u001B[43mget_commentary_dataloader\u001B[49m\u001B[43m(\u001B[49m\u001B[43mconfigs\u001B[49m\u001B[43m[\u001B[49m\u001B[38;5;124;43m'\u001B[39;49m\u001B[38;5;124;43mtrain_data_config\u001B[39;49m\u001B[38;5;124;43m'\u001B[39;49m\u001B[43m]\u001B[49m\u001B[43m,\u001B[49m\u001B[43m \u001B[49m\u001B[43mconfigs\u001B[49m\u001B[43m[\u001B[49m\u001B[38;5;124;43m'\u001B[39;49m\u001B[38;5;124;43mshared_config\u001B[39;49m\u001B[38;5;124;43m'\u001B[39;49m\u001B[43m]\u001B[49m\u001B[43m)\u001B[49m[\u001B[38;5;241m0\u001B[39m],\n\u001B[1;32m      6\u001B[0m             val_dl\u001B[38;5;241m=\u001B[39mget_commentary_dataloader(configs[\u001B[38;5;124m'\u001B[39m\u001B[38;5;124mvalid_data_config\u001B[39m\u001B[38;5;124m'\u001B[39m], configs[\u001B[38;5;124m'\u001B[39m\u001B[38;5;124mshared_config\u001B[39m\u001B[38;5;124m'\u001B[39m])[\u001B[38;5;241m0\u001B[39m],\n\u001B[1;32m      7\u001B[0m             test_ds\u001B[38;5;241m=\u001B[39mCommentaryDataset(configs[\u001B[38;5;124m'\u001B[39m\u001B[38;5;124mtest_data_config\u001B[39m\u001B[38;5;124m'\u001B[39m], configs[\u001B[38;5;124m'\u001B[39m\u001B[38;5;124mshared_config\u001B[39m\u001B[38;5;124m'\u001B[39m]),\n\u001B[1;32m      8\u001B[0m             predictor\u001B[38;5;241m=\u001B[39mPredictor(configs[\u001B[38;5;124m'\u001B[39m\u001B[38;5;124mshared_config\u001B[39m\u001B[38;5;124m'\u001B[39m])\n\u001B[1;32m      9\u001B[0m         )\n",
      "File \u001B[0;32m~/Desktop/thesis/data/CommentaryDataloader.py:13\u001B[0m, in \u001B[0;36mget_commentary_dataloader\u001B[0;34m(config, shared_config)\u001B[0m\n\u001B[1;32m     12\u001B[0m \u001B[38;5;28;01mdef\u001B[39;00m \u001B[38;5;21mget_commentary_dataloader\u001B[39m(config: DataConfig, shared_config: SharedConfig) \u001B[38;5;241m-\u001B[39m\u001B[38;5;241m>\u001B[39m Tuple[DataLoader, SharedConfig]:\n\u001B[0;32m---> 13\u001B[0m     ds \u001B[38;5;241m=\u001B[39m \u001B[43mCommentaryDataset\u001B[49m\u001B[43m(\u001B[49m\u001B[43mconfig\u001B[49m\u001B[43m,\u001B[49m\u001B[43m \u001B[49m\u001B[43mshared_config\u001B[49m\u001B[43m)\u001B[49m\n\u001B[1;32m     14\u001B[0m     shared_config[\u001B[38;5;124m'\u001B[39m\u001B[38;5;124mpad_id\u001B[39m\u001B[38;5;124m'\u001B[39m] \u001B[38;5;241m=\u001B[39m ds\u001B[38;5;241m.\u001B[39mget_pad_id()\n\u001B[1;32m     15\u001B[0m     shared_config[\u001B[38;5;124m'\u001B[39m\u001B[38;5;124mbos_id\u001B[39m\u001B[38;5;124m'\u001B[39m] \u001B[38;5;241m=\u001B[39m ds\u001B[38;5;241m.\u001B[39mget_bos_id()\n",
      "File \u001B[0;32m~/Desktop/thesis/data/CommentaryDataset.py:36\u001B[0m, in \u001B[0;36mCommentaryDataset.__init__\u001B[0;34m(self, config, shared_config)\u001B[0m\n\u001B[1;32m     33\u001B[0m \u001B[38;5;28mself\u001B[39m\u001B[38;5;241m.\u001B[39m__data \u001B[38;5;241m=\u001B[39m []\n\u001B[1;32m     35\u001B[0m \u001B[38;5;28;01mfor\u001B[39;00m filename \u001B[38;5;129;01min\u001B[39;00m os\u001B[38;5;241m.\u001B[39mlistdir(os\u001B[38;5;241m.\u001B[39mpath\u001B[38;5;241m.\u001B[39mjoin(\u001B[38;5;28mself\u001B[39m\u001B[38;5;241m.\u001B[39m__config[\u001B[38;5;124m'\u001B[39m\u001B[38;5;124mdata_path\u001B[39m\u001B[38;5;124m'\u001B[39m], \u001B[38;5;28mself\u001B[39m\u001B[38;5;241m.\u001B[39m__config[\u001B[38;5;124m'\u001B[39m\u001B[38;5;124msplit\u001B[39m\u001B[38;5;124m'\u001B[39m])):\n\u001B[0;32m---> 36\u001B[0m     local_data \u001B[38;5;241m=\u001B[39m \u001B[43mpl\u001B[49m\u001B[38;5;241;43m.\u001B[39;49m\u001B[43mread_parquet\u001B[49m\u001B[43m(\u001B[49m\u001B[43mos\u001B[49m\u001B[38;5;241;43m.\u001B[39;49m\u001B[43mpath\u001B[49m\u001B[38;5;241;43m.\u001B[39;49m\u001B[43mjoin\u001B[49m\u001B[43m(\u001B[49m\u001B[38;5;28;43mself\u001B[39;49m\u001B[38;5;241;43m.\u001B[39;49m\u001B[43m__config\u001B[49m\u001B[43m[\u001B[49m\u001B[38;5;124;43m'\u001B[39;49m\u001B[38;5;124;43mdata_path\u001B[39;49m\u001B[38;5;124;43m'\u001B[39;49m\u001B[43m]\u001B[49m\u001B[43m,\u001B[49m\u001B[43m \u001B[49m\u001B[38;5;28;43mself\u001B[39;49m\u001B[38;5;241;43m.\u001B[39;49m\u001B[43m__config\u001B[49m\u001B[43m[\u001B[49m\u001B[38;5;124;43m'\u001B[39;49m\u001B[38;5;124;43msplit\u001B[39;49m\u001B[38;5;124;43m'\u001B[39;49m\u001B[43m]\u001B[49m\u001B[43m,\u001B[49m\u001B[43m \u001B[49m\u001B[43mfilename\u001B[49m\u001B[43m)\u001B[49m\u001B[43m)\u001B[49m\u001B[38;5;241m.\u001B[39mrows(named\u001B[38;5;241m=\u001B[39m\u001B[38;5;28;01mTrue\u001B[39;00m)\n\u001B[1;32m     37\u001B[0m     past_boards \u001B[38;5;241m=\u001B[39m []\n\u001B[1;32m     38\u001B[0m     \u001B[38;5;28;01mfor\u001B[39;00m row \u001B[38;5;129;01min\u001B[39;00m local_data:\n",
      "File \u001B[0;32m~/Desktop/thesis/venv/lib/python3.12/site-packages/polars/utils/deprecation.py:133\u001B[0m, in \u001B[0;36mdeprecate_renamed_parameter.<locals>.decorate.<locals>.wrapper\u001B[0;34m(*args, **kwargs)\u001B[0m\n\u001B[1;32m    128\u001B[0m \u001B[38;5;129m@wraps\u001B[39m(function)\n\u001B[1;32m    129\u001B[0m \u001B[38;5;28;01mdef\u001B[39;00m \u001B[38;5;21mwrapper\u001B[39m(\u001B[38;5;241m*\u001B[39margs: P\u001B[38;5;241m.\u001B[39margs, \u001B[38;5;241m*\u001B[39m\u001B[38;5;241m*\u001B[39mkwargs: P\u001B[38;5;241m.\u001B[39mkwargs) \u001B[38;5;241m-\u001B[39m\u001B[38;5;241m>\u001B[39m T:\n\u001B[1;32m    130\u001B[0m     _rename_keyword_argument(\n\u001B[1;32m    131\u001B[0m         old_name, new_name, kwargs, function\u001B[38;5;241m.\u001B[39m\u001B[38;5;18m__name__\u001B[39m, version\n\u001B[1;32m    132\u001B[0m     )\n\u001B[0;32m--> 133\u001B[0m     \u001B[38;5;28;01mreturn\u001B[39;00m \u001B[43mfunction\u001B[49m\u001B[43m(\u001B[49m\u001B[38;5;241;43m*\u001B[39;49m\u001B[43margs\u001B[49m\u001B[43m,\u001B[49m\u001B[43m \u001B[49m\u001B[38;5;241;43m*\u001B[39;49m\u001B[38;5;241;43m*\u001B[39;49m\u001B[43mkwargs\u001B[49m\u001B[43m)\u001B[49m\n",
      "File \u001B[0;32m~/Desktop/thesis/venv/lib/python3.12/site-packages/polars/utils/deprecation.py:133\u001B[0m, in \u001B[0;36mdeprecate_renamed_parameter.<locals>.decorate.<locals>.wrapper\u001B[0;34m(*args, **kwargs)\u001B[0m\n\u001B[1;32m    128\u001B[0m \u001B[38;5;129m@wraps\u001B[39m(function)\n\u001B[1;32m    129\u001B[0m \u001B[38;5;28;01mdef\u001B[39;00m \u001B[38;5;21mwrapper\u001B[39m(\u001B[38;5;241m*\u001B[39margs: P\u001B[38;5;241m.\u001B[39margs, \u001B[38;5;241m*\u001B[39m\u001B[38;5;241m*\u001B[39mkwargs: P\u001B[38;5;241m.\u001B[39mkwargs) \u001B[38;5;241m-\u001B[39m\u001B[38;5;241m>\u001B[39m T:\n\u001B[1;32m    130\u001B[0m     _rename_keyword_argument(\n\u001B[1;32m    131\u001B[0m         old_name, new_name, kwargs, function\u001B[38;5;241m.\u001B[39m\u001B[38;5;18m__name__\u001B[39m, version\n\u001B[1;32m    132\u001B[0m     )\n\u001B[0;32m--> 133\u001B[0m     \u001B[38;5;28;01mreturn\u001B[39;00m \u001B[43mfunction\u001B[49m\u001B[43m(\u001B[49m\u001B[38;5;241;43m*\u001B[39;49m\u001B[43margs\u001B[49m\u001B[43m,\u001B[49m\u001B[43m \u001B[49m\u001B[38;5;241;43m*\u001B[39;49m\u001B[38;5;241;43m*\u001B[39;49m\u001B[43mkwargs\u001B[49m\u001B[43m)\u001B[49m\n",
      "File \u001B[0;32m~/Desktop/thesis/venv/lib/python3.12/site-packages/polars/io/parquet/functions.py:191\u001B[0m, in \u001B[0;36mread_parquet\u001B[0;34m(source, columns, n_rows, row_index_name, row_index_offset, parallel, use_statistics, hive_partitioning, rechunk, low_memory, storage_options, retries, use_pyarrow, pyarrow_options, memory_map)\u001B[0m\n\u001B[1;32m    188\u001B[0m         columns \u001B[38;5;241m=\u001B[39m [lf\u001B[38;5;241m.\u001B[39mcolumns[i] \u001B[38;5;28;01mfor\u001B[39;00m i \u001B[38;5;129;01min\u001B[39;00m columns]\n\u001B[1;32m    189\u001B[0m     lf \u001B[38;5;241m=\u001B[39m lf\u001B[38;5;241m.\u001B[39mselect(columns)\n\u001B[0;32m--> 191\u001B[0m \u001B[38;5;28;01mreturn\u001B[39;00m \u001B[43mlf\u001B[49m\u001B[38;5;241;43m.\u001B[39;49m\u001B[43mcollect\u001B[49m\u001B[43m(\u001B[49m\u001B[43mno_optimization\u001B[49m\u001B[38;5;241;43m=\u001B[39;49m\u001B[38;5;28;43;01mTrue\u001B[39;49;00m\u001B[43m)\u001B[49m\n",
      "File \u001B[0;32m~/Desktop/thesis/venv/lib/python3.12/site-packages/polars/lazyframe/frame.py:1940\u001B[0m, in \u001B[0;36mLazyFrame.collect\u001B[0;34m(self, type_coercion, predicate_pushdown, projection_pushdown, simplify_expression, slice_pushdown, comm_subplan_elim, comm_subexpr_elim, no_optimization, streaming, background, _eager)\u001B[0m\n\u001B[1;32m   1937\u001B[0m \u001B[38;5;28;01mif\u001B[39;00m background:\n\u001B[1;32m   1938\u001B[0m     \u001B[38;5;28;01mreturn\u001B[39;00m InProcessQuery(ldf\u001B[38;5;241m.\u001B[39mcollect_concurrently())\n\u001B[0;32m-> 1940\u001B[0m \u001B[38;5;28;01mreturn\u001B[39;00m wrap_df(\u001B[43mldf\u001B[49m\u001B[38;5;241;43m.\u001B[39;49m\u001B[43mcollect\u001B[49m\u001B[43m(\u001B[49m\u001B[43m)\u001B[49m)\n",
      "\u001B[0;31mKeyboardInterrupt\u001B[0m: "
     ]
    }
   ],
   "source": [
    "train(\n",
    "            model_config=configs['model_config'],\n",
    "            train_config=configs['train_config'],\n",
    "            shared_config=configs['shared_config'],\n",
    "            train_dl=get_commentary_dataloader(configs['train_data_config'], configs['shared_config'])[0],\n",
    "            val_dl=get_commentary_dataloader(configs['valid_data_config'], configs['shared_config'])[0],\n",
    "            test_ds=CommentaryDataset(configs['test_data_config'], configs['shared_config']),\n",
    "            predictor=Predictor(configs['shared_config'])\n",
    "        )"
   ],
   "metadata": {
    "collapsed": false,
    "ExecuteTime": {
     "end_time": "2024-02-22T15:07:32.619753178Z",
     "start_time": "2024-02-22T15:07:29.423510779Z"
    }
   },
   "id": "be23b94300f464fa",
   "execution_count": 30
  },
  {
   "cell_type": "code",
   "outputs": [],
   "source": [
    "train_ds = CommentaryDataset(configs['train_data_config'], configs['shared_config'])"
   ],
   "metadata": {
    "collapsed": false,
    "ExecuteTime": {
     "end_time": "2024-02-22T15:07:48.387282548Z",
     "start_time": "2024-02-22T15:07:42.846519190Z"
    }
   },
   "id": "bb63a8e9bb5d03d4",
   "execution_count": 32
  },
  {
   "cell_type": "code",
   "outputs": [
    {
     "data": {
      "text/plain": "57357"
     },
     "execution_count": 33,
     "metadata": {},
     "output_type": "execute_result"
    }
   ],
   "source": [
    "len(train_ds)"
   ],
   "metadata": {
    "collapsed": false,
    "ExecuteTime": {
     "end_time": "2024-02-22T15:07:48.430833719Z",
     "start_time": "2024-02-22T15:07:48.387927618Z"
    }
   },
   "id": "4d9b27ae85befc44",
   "execution_count": 33
  },
  {
   "cell_type": "code",
   "outputs": [],
   "source": [
    "37215, 37275, 7, 12380, 213, 57357"
   ],
   "metadata": {
    "collapsed": false
   },
   "id": "6a8dcaafccb1f0ea"
  }
 ],
 "metadata": {
  "kernelspec": {
   "display_name": "Python 3",
   "language": "python",
   "name": "python3"
  },
  "language_info": {
   "codemirror_mode": {
    "name": "ipython",
    "version": 2
   },
   "file_extension": ".py",
   "mimetype": "text/x-python",
   "name": "python",
   "nbconvert_exporter": "python",
   "pygments_lexer": "ipython2",
   "version": "2.7.6"
  }
 },
 "nbformat": 4,
 "nbformat_minor": 5
}

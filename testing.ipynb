{
 "cells": [
  {
   "cell_type": "code",
   "execution_count": 1,
   "id": "initial_id",
   "metadata": {
    "collapsed": true,
    "ExecuteTime": {
     "end_time": "2024-03-08T09:50:00.065247977Z",
     "start_time": "2024-03-08T09:50:00.051501817Z"
    }
   },
   "outputs": [],
   "source": [
    "from omegaconf import OmegaConf\n",
    "import sentencepiece\n",
    "from tqdm import tqdm"
   ]
  },
  {
   "cell_type": "code",
   "outputs": [],
   "source": [
    "conf = {'processed_path': \"./processed_data\", \"split\": \"train\", \"context_length\": 512, 'stride_big_sequences': 256, \"count_past_boards\": 2, \"in_memory\":False, 'target_types': [0, 1, 2, 3, 4]}\n",
    "oconf = OmegaConf.create(conf)"
   ],
   "metadata": {
    "collapsed": false,
    "ExecuteTime": {
     "end_time": "2024-03-08T09:50:02.337777528Z",
     "start_time": "2024-03-08T09:50:02.335770031Z"
    }
   },
   "id": "a751153eaea6eaa8",
   "execution_count": 2
  },
  {
   "cell_type": "code",
   "outputs": [],
   "source": [
    "sp = sentencepiece.SentencePieceProcessor(\"./artifacts/old/artifacts_old/artifacts/sp1000.model\")"
   ],
   "metadata": {
    "collapsed": false,
    "ExecuteTime": {
     "end_time": "2024-03-08T09:50:03.769625526Z",
     "start_time": "2024-03-08T09:50:03.763693093Z"
    }
   },
   "id": "4f72ef3a84d8a721",
   "execution_count": 3
  },
  {
   "cell_type": "code",
   "outputs": [],
   "source": [
    "from data.AlphazeroCommentaryDataset import AlphazeroCommentaryDataset"
   ],
   "metadata": {
    "collapsed": false,
    "ExecuteTime": {
     "end_time": "2024-03-08T09:50:05.271939617Z",
     "start_time": "2024-03-08T09:50:03.911368861Z"
    }
   },
   "id": "63b2d9fe859bb4e8",
   "execution_count": 4
  },
  {
   "cell_type": "code",
   "outputs": [],
   "source": [
    "ds = AlphazeroCommentaryDataset(oconf, sp)"
   ],
   "metadata": {
    "collapsed": false,
    "ExecuteTime": {
     "end_time": "2024-03-08T09:50:18.517863468Z",
     "start_time": "2024-03-08T09:50:05.272806457Z"
    }
   },
   "id": "9376c519753c201b",
   "execution_count": 5
  },
  {
   "cell_type": "code",
   "outputs": [],
   "source": [
    "from torch.nn.utils.rnn import pad_sequence\n",
    "import torch\n",
    "from torch.utils.data import DataLoader\n",
    "\n",
    "def collate_fn(data):\n",
    "    board_data = torch.stack(list(map(lambda x: x[0], data)))\n",
    "    sequences = pad_sequence(list(map(lambda x: x[1], data)), batch_first=True,\n",
    "                             padding_value=sp.pad_id())\n",
    "    types = torch.stack(list(map(lambda x: x[2], data)))\n",
    "    X_sequence = sequences[:, :-1]\n",
    "    y_sequence = sequences[:, 1:]\n",
    "    next_pad_mask = (y_sequence == sp.pad_id())\n",
    "    return board_data, X_sequence, y_sequence, next_pad_mask, types\n",
    "\n",
    "dl = DataLoader(\n",
    "            ds,\n",
    "            batch_size=128,\n",
    "            collate_fn=collate_fn,\n",
    "            num_workers=2\n",
    "        )"
   ],
   "metadata": {
    "collapsed": false,
    "ExecuteTime": {
     "end_time": "2024-03-08T09:50:18.522144854Z",
     "start_time": "2024-03-08T09:50:18.519736988Z"
    }
   },
   "id": "c6be03830c99a14",
   "execution_count": 6
  },
  {
   "cell_type": "code",
   "outputs": [],
   "source": [
    "import wandb\n",
    "run = wandb.init()\n",
    "artifact = run.use_artifact('georgerapeanu/thesis/model_val_loss:v68', type='model')\n",
    "artifact_dir = artifact.download()"
   ],
   "metadata": {
    "collapsed": false,
    "ExecuteTime": {
     "start_time": "2024-03-08T09:46:55.132759317Z"
    }
   },
   "id": "89f8401240da3d8a",
   "execution_count": null
  },
  {
   "cell_type": "code",
   "outputs": [
    {
     "data": {
      "text/plain": "Model(\n  (board_preparation): Sequential(\n    (0): Conv2d(125, 256, kernel_size=(1, 1), stride=(1, 1), bias=False)\n    (1): BatchNorm2d(256, eps=1e-05, momentum=0.1, affine=True, track_running_stats=True)\n    (2): ReLU(inplace=True)\n  )\n  (emb): Embedding(1000, 256)\n  (pe_board): PositionalEncoding2D(\n    (Dropout): Dropout(p=0.1, inplace=False)\n  )\n  (pe_text): PositionalEncoding1D(\n    (Dropout): Dropout(p=0.1, inplace=False)\n  )\n  (encoders): ModuleList(\n    (0-5): 6 x TransformerEncoderBlock(\n      (mha): MultiheadAttention(\n        (out_proj): NonDynamicallyQuantizableLinear(in_features=256, out_features=256, bias=True)\n      )\n      (layer_norm1): LayerNorm((256,), eps=1e-05, elementwise_affine=True)\n      (feed_forward): Sequential(\n        (0): Linear(in_features=256, out_features=512, bias=True)\n        (1): ReLU(inplace=True)\n        (2): Linear(in_features=512, out_features=256, bias=True)\n      )\n      (layer_norm2): LayerNorm((256,), eps=1e-05, elementwise_affine=True)\n      (dropout): Dropout(p=0.1, inplace=False)\n    )\n  )\n  (decoders): ModuleList(\n    (0-5): 6 x TransformerDecoderBlock(\n      (mha1): MultiheadAttention(\n        (out_proj): NonDynamicallyQuantizableLinear(in_features=256, out_features=256, bias=True)\n      )\n      (layer_norm1): LayerNorm((256,), eps=1e-05, elementwise_affine=True)\n      (mha2): MultiheadAttention(\n        (out_proj): NonDynamicallyQuantizableLinear(in_features=256, out_features=256, bias=True)\n      )\n      (layer_norm2): LayerNorm((256,), eps=1e-05, elementwise_affine=True)\n      (feed_forward): Sequential(\n        (0): Linear(in_features=256, out_features=512, bias=True)\n        (1): ReLU(inplace=True)\n        (2): Linear(in_features=512, out_features=256, bias=True)\n      )\n      (layer_norm3): LayerNorm((256,), eps=1e-05, elementwise_affine=True)\n      (dropout): Dropout(p=0.1, inplace=False)\n    )\n  )\n  (linear): Linear(in_features=256, out_features=1000, bias=True)\n)"
     },
     "execution_count": 7,
     "metadata": {},
     "output_type": "execute_result"
    }
   ],
   "source": [
    "model = torch.load(\"./artifacts/model_val_loss:v68/model_save_val_loss_2.341321006943198\", map_location=torch.device(\"cpu\"))\n",
    "model.eval()"
   ],
   "metadata": {
    "collapsed": false,
    "ExecuteTime": {
     "end_time": "2024-03-08T09:50:19.551956733Z",
     "start_time": "2024-03-08T09:50:18.522385368Z"
    }
   },
   "id": "f75fdaad43afe981",
   "execution_count": 7
  },
  {
   "cell_type": "code",
   "outputs": [],
   "source": [
    "import random\n",
    "\n",
    "choices = random.sample(range(len(ds)), 10)\n",
    "to_predict = [ds[i] for i in choices]\n",
    "to_predict_metadata = [ds.get_raw_data(i) for i in choices]"
   ],
   "metadata": {
    "collapsed": false,
    "ExecuteTime": {
     "end_time": "2024-03-08T09:50:19.567667956Z",
     "start_time": "2024-03-08T09:50:19.553302097Z"
    }
   },
   "id": "54239634efd93054",
   "execution_count": 8
  },
  {
   "cell_type": "code",
   "outputs": [],
   "source": [
    "from model.predict import Predictor\n",
    "predictor = Predictor(512, sp)"
   ],
   "metadata": {
    "collapsed": false,
    "ExecuteTime": {
     "end_time": "2024-03-08T09:50:19.571789017Z",
     "start_time": "2024-03-08T09:50:19.568417911Z"
    }
   },
   "id": "e384604159196ce5",
   "execution_count": 9
  },
  {
   "cell_type": "code",
   "outputs": [
    {
     "name": "stdout",
     "output_type": "stream",
     "text": [
      "r . b q k b . r\n",
      "p p p p . . . p\n",
      ". . n . . n N .\n",
      ". . . . . p . .\n",
      ". . . . P . . .\n",
      ". . . . . . . Q\n",
      "P P P P . P P P\n",
      "R N B . K B . R\n",
      "r . b q k b r .\n",
      "p p p p . . . p\n",
      ". . n . . n N .\n",
      ". . . . . p . .\n",
      ". . . . P . . .\n",
      ". . . . . . . Q\n",
      "P P P P . P P P\n",
      "R N B . K B . R\n",
      "actual:The question of relocation is put to the knight.\n",
      "predicted:black knight moves to g3 to attack the bishop and proceed to retreat the bishop\n",
      "r . b . . r k .\n",
      "p p . . . . p p\n",
      ". . n q p . . .\n",
      ". . . p . . . .\n",
      ". . . P . N n .\n",
      ". . . B . N P .\n",
      "P P . Q . P . P\n",
      "R . . . . R K .\n",
      "r . . . . r k .\n",
      "p p . b . . p p\n",
      ". . n q p . . .\n",
      ". . . p . . . .\n",
      ". . . P . N n .\n",
      ". . . B . N P .\n",
      "P P . Q . P . P\n",
      "R . . . . R K .\n",
      "actual:GK GameDB suggests 15 .. e5 , but after 16. dxe5 Nxe5 17. Nxe5 Nxe5 etc. I've got an isolated pawn and no piece attack, so I prefer to wait and try to \"develop\" the Bishop in another way.\n",
      "predicted:At this point, I'm starting to play e6 normally.\n",
      "N . b . r . . .\n",
      "p p . k . p . .\n",
      ". . n p . . . p\n",
      ". B . . b . p .\n",
      ". . . p P . n .\n",
      ". . . . . P B .\n",
      "P P P R . . P P\n",
      ". . K . . . . R\n",
      "N . b . r . . .\n",
      "p p . k . p . .\n",
      ". . n p . . . p\n",
      ". B . . b . p .\n",
      ". . . p P . . .\n",
      ". . . . n P B .\n",
      "P P P R . . P P\n",
      ". . K . . . . R\n",
      "actual:I advance my attacked knight.\n",
      "predicted:I thought the right time I tide to trade the Queens off of the c file with my idea of Nc6 and i can easily castle, but it is when the knights start to cover h7; i can go to\n",
      ". . r . . r k .\n",
      ". . . . . p p p\n",
      "p . . . p . . P\n",
      ". p . p . . P .\n",
      ". q . N b P . .\n",
      ". P R . . . . R\n",
      "P . P Q . . . .\n",
      ". K . . . . . .\n",
      ". . r . . r k .\n",
      ". . . . . p p p\n",
      "p . . . p . . P\n",
      ". p . p . P P .\n",
      ". q . N b . . .\n",
      ". P R . . . . R\n",
      "P . P Q . . . .\n",
      ". K . . . . . .\n",
      "actual:white continues the pressure on the kingside\n",
      "predicted:It is a king and bishop centralizes the move. Black's king would also have to move back, I can haven't defended so I could put my d4 Pawn for the f pawn at least only one more times.\n",
      "r . . . k b . r\n",
      "p p p . . p . .\n",
      ". . n . . . . .\n",
      ". . . . p . . .\n",
      ". . . . N n P q\n",
      ". . P P . . . .\n",
      "P P . . B . P .\n",
      "R . B Q . R K .\n",
      "r . . . k b . r\n",
      "p p p . . p . .\n",
      ". . n . . . . .\n",
      ". . . . p . . .\n",
      ". . . . N n P .\n",
      ". . P P . . . .\n",
      "P P . . B . P q\n",
      "R . B Q . R K .\n",
      "actual:15. ..... Qh2+ .... and here Dan waves the white flag. So the Black Queen's bark was worse than her bite! To Gerhard's credit, he can say that he swindled his opponent into a premature resignation. One must remember that a premature resignation is as bad as leaving your king to cop Old Matey. We have all been there and if and when we resign, we make the decision that seems right at the time and to the best of our knowledge. I will therefore be contacting both players respective mentors regarding this result for their valuable input. Anyhow, Gerhard, kudos to you - you have kept your rating in the 1300s for quite a while now and are nudging up to 1350 - keep it up! As for you, Dan, I know only too well what you are capable of when you are at the top of your game against Class A 1800 oppo. and I can see your rating get back into the mid-1500s sooner or later ......\n",
      "predicted:I'm not sure what during of this... But maybe that Kasparov also becuased to work with my draw.\n",
      ". . . . . . . .\n",
      ". . . . . . . .\n",
      ". . . . p P k .\n",
      ". b . . P . . .\n",
      ". P . . . B . .\n",
      "P K . . . . . .\n",
      ". . . . . . . .\n",
      ". . . . . . . .\n",
      ". . . . . . . .\n",
      ". . . . . . . .\n",
      ". . . . p P . .\n",
      ". b . . P . . k\n",
      ". P . . . B . .\n",
      "P K . . . . . .\n",
      ". . . . . . . .\n",
      ". . . . . . . .\n",
      "actual:Here i should have played f7, but i didn't realise this at the time.\n",
      "predicted:My opponent does nothing because he was ahead and I like checkmate in to give him the game and back. Not the box. a game seems missed too, but let's get the named, neither draw out of there last it checked. This is really a draw is worthy of that pawn.\n",
      "r . . r . . . k\n",
      "p b . . q . p .\n",
      ". . p . . p Q p\n",
      ". . . . p . . .\n",
      ". . . . . . . .\n",
      ". . N . . . . R\n",
      "P P P . . P P P\n",
      "R . . . . . K .\n",
      "r . . r . . . k\n",
      "p b . . q . p .\n",
      ". . p . . p Q p\n",
      ". . . . p . . .\n",
      ". . . . N . . .\n",
      ". . . . . . . R\n",
      "P P P . . P P P\n",
      "R . . . . . K .\n",
      "actual:beast move by me..... you will come to know later\n",
      "predicted:The king gave me some time to avoid putting this more question on the 2nd rank or 2 didn't have much seen for Black firstly he may still have done 30. Qe1 so.\n",
      ". . . . . . . .\n",
      ". . . . . . . .\n",
      ". . . . . k . .\n",
      ". . p . . . b R\n",
      ". p . . . . . P\n",
      ". P . . . P . .\n",
      "P . P . . . . .\n",
      ". K . . . . . .\n",
      ". . . . . . . .\n",
      ". . . . . . . .\n",
      ". . . . . k . .\n",
      ". . p . . . . R\n",
      ". p . . . . . P\n",
      ". P . . . P . .\n",
      "P . P b . . . .\n",
      ". K . . . . . .\n",
      "actual:Free pawn finally safe to take.\n",
      "predicted:If 18. ... Kf3 then 19. Rc4+ and then losing my queen to check.\n",
      ". n . . . b k r\n",
      ". b q p . . p .\n",
      ". . . . p . . .\n",
      ". B p . . . p .\n",
      ". p . . . . . .\n",
      ". Q . . . . . N\n",
      "P . . . . P P P\n",
      ". . . R . K . R\n",
      ". n . . . b k r\n",
      ". . q p . . p .\n",
      ". . . . p . . .\n",
      ". B p . . . p .\n",
      ". p . . . . . .\n",
      ". Q . . . . . N\n",
      "P . . . . P b P\n",
      ". . . R . K . R\n",
      "actual:I'd completely missed this nice move which allows black to gain a pawn\n",
      "predicted:black scare were better, but still pretty much accurate.\n",
      "r . b . . r k .\n",
      "p p q p . . p .\n",
      ". . . . . . . .\n",
      ". . . . . p . Q\n",
      ". . . . . . . .\n",
      ". . . P . . . R\n",
      "P P P . . K P P\n",
      "R . . . . . . .\n",
      "r . b . . r k .\n",
      "p p q p . . p Q\n",
      ". . . . . . . .\n",
      ". . . . . p . .\n",
      ". . . . . . . .\n",
      ". . . P . . . R\n",
      "P P P . . K P P\n",
      "R . . . . . . .\n",
      "actual:The game ends in a draw by threefold rep. In conclusion, even though the game is a sure draw after 11. Bxh7 I feel that it is a good game for a novice to know since the pressure down the h-file maybe enough to scare a black opponent into a rash defense. Especially after 13. ...f6 after which 14. Qd5 could give what the upper hand.\n",
      "predicted:instead of they go off busy attacking pacticerfectly and here Nb1.\n"
     ]
    }
   ],
   "source": [
    "import chess\n",
    "\n",
    "for ((X_board, y_tokens, _), (current_board, past_board, current_eval, past_eval)) in zip(to_predict,\n",
    "                                                                                                  to_predict_metadata):\n",
    "    predicted_text = predictor.predict(model, X_board, '', 1024)\n",
    "    actual_text = predictor.tokens_to_string(y_tokens)\n",
    "    print(chess.Board(past_board))\n",
    "    print(chess.Board(current_board))\n",
    "    print(\"actual:\" + actual_text)\n",
    "    print(\"predicted:\" + predicted_text)"
   ],
   "metadata": {
    "collapsed": false,
    "ExecuteTime": {
     "end_time": "2024-03-08T09:30:37.888868749Z",
     "start_time": "2024-03-08T09:30:33.805161781Z"
    }
   },
   "id": "f6138befd8e0c58c",
   "execution_count": 10
  },
  {
   "cell_type": "code",
   "outputs": [],
   "source": [
    "optimizer = (torch.optim.SGD(model.parameters(), lr=0.08))"
   ],
   "metadata": {
    "collapsed": false,
    "ExecuteTime": {
     "end_time": "2024-03-08T09:50:19.955208038Z",
     "start_time": "2024-03-08T09:50:19.572311732Z"
    }
   },
   "id": "cfc0639c5c2ada6",
   "execution_count": 10
  },
  {
   "cell_type": "code",
   "outputs": [
    {
     "name": "stderr",
     "output_type": "stream",
     "text": [
      "  1%|          | 7/920 [00:47<1:43:31,  6.80s/it]\n"
     ]
    },
    {
     "name": "stdout",
     "output_type": "stream",
     "text": [
      "0.6018177483763013\n"
     ]
    },
    {
     "name": "stderr",
     "output_type": "stream",
     "text": [
      "  1%|          | 7/920 [00:44<1:36:19,  6.33s/it]"
     ]
    },
    {
     "name": "stdout",
     "output_type": "stream",
     "text": [
      "0.5914961780820575\n"
     ]
    },
    {
     "name": "stderr",
     "output_type": "stream",
     "text": [
      "\n"
     ]
    }
   ],
   "source": [
    "model.train()\n",
    "train_losses = []\n",
    "for _ in range(2):\n",
    "    train_losses.clear() \n",
    "    for i, batch in enumerate(tqdm(dl)):\n",
    "        if i > 6:\n",
    "            break\n",
    "        optimizer.zero_grad()\n",
    "        (X_board, X_text, y_sequence, pad_mask, types) = batch\n",
    "        _, loss = model(X_board, X_text, pad_mask, y_sequence)\n",
    "        train_losses.append(loss.item())\n",
    "        loss.backward()\n",
    "        optimizer.step()\n",
    "    \n",
    "    train_loss = sum(train_losses) / len(train_losses)\n",
    "    print(train_loss)"
   ],
   "metadata": {
    "collapsed": false,
    "ExecuteTime": {
     "end_time": "2024-03-08T09:51:51.995220912Z",
     "start_time": "2024-03-08T09:50:20.040263402Z"
    }
   },
   "id": "a8ea4bc19ef59cff",
   "execution_count": 11
  },
  {
   "cell_type": "code",
   "outputs": [
    {
     "name": "stdout",
     "output_type": "stream",
     "text": [
      "[0.2941211462020874, 0.4395594298839569, 0.7215953469276428, 0.5389072895050049, 0.7495558857917786, 0.962472140789032, 0.3383268713951111, 0.4746575355529785, 0.6347800493240356, 0.3580690920352936, 0.42043012380599976]\n"
     ]
    }
   ],
   "source": [
    "# tworuns of eval to see they match\n",
    "print(train_losses)"
   ],
   "metadata": {
    "collapsed": false,
    "ExecuteTime": {
     "end_time": "2024-03-08T09:36:56.256774125Z",
     "start_time": "2024-03-08T09:36:56.255686401Z"
    }
   },
   "id": "ac965a97c74f18e7",
   "execution_count": 13
  },
  {
   "cell_type": "code",
   "outputs": [
    {
     "name": "stdout",
     "output_type": "stream",
     "text": [
      "[0.2941211462020874, 0.4395594298839569, 0.7215953469276428, 0.5389072895050049, 0.7495558857917786, 0.962472140789032, 0.3383268713951111, 0.4746575355529785, 0.6347800493240356, 0.3580690920352936, 0.42043012380599976]\n"
     ]
    }
   ],
   "source": [
    "print(train_losses)"
   ],
   "metadata": {
    "collapsed": false,
    "ExecuteTime": {
     "end_time": "2024-03-08T09:32:01.900034391Z",
     "start_time": "2024-03-08T09:32:01.897621524Z"
    }
   },
   "id": "dabd4cd0ec328b2d",
   "execution_count": 13
  },
  {
   "cell_type": "code",
   "outputs": [
    {
     "name": "stdout",
     "output_type": "stream",
     "text": [
      "[0.30783262848854065, 0.46060094237327576, 0.7480670809745789, 0.5648900270462036, 0.7838973999023438, 1.0042369365692139, 0.3544386625289917, 0.49887675046920776, 0.6658899188041687, 0.3742157518863678, 0.43792301416397095]\n"
     ]
    }
   ],
   "source": [
    "# two train runs, 10 vs 20 epochs\n",
    "print(train_losses)"
   ],
   "metadata": {
    "collapsed": false,
    "ExecuteTime": {
     "end_time": "2024-03-08T09:39:21.878833366Z",
     "start_time": "2024-03-08T09:39:21.877515754Z"
    }
   },
   "id": "c30e40eed3c3847d",
   "execution_count": 12
  },
  {
   "cell_type": "code",
   "outputs": [
    {
     "name": "stdout",
     "output_type": "stream",
     "text": [
      "[0.3074360191822052, 0.4583767354488373, 0.7452166080474854, 0.5626044869422913, 0.7766403555870056, 0.9388211369514465, 0.3513779044151306]\n"
     ]
    }
   ],
   "source": [
    "print(train_losses)"
   ],
   "metadata": {
    "collapsed": false,
    "ExecuteTime": {
     "end_time": "2024-03-08T09:51:51.996460564Z",
     "start_time": "2024-03-08T09:51:51.995215222Z"
    }
   },
   "id": "7624c6c430e9963c",
   "execution_count": 12
  },
  {
   "cell_type": "code",
   "outputs": [
    {
     "data": {
      "text/plain": "2"
     },
     "execution_count": 1,
     "metadata": {},
     "output_type": "execute_result"
    }
   ],
   "source": [
    "1+1"
   ],
   "metadata": {
    "collapsed": false,
    "ExecuteTime": {
     "end_time": "2024-03-08T09:49:48.919157660Z",
     "start_time": "2024-03-08T09:49:48.916042710Z"
    }
   },
   "id": "c1f9a96a6f8a16dd",
   "execution_count": 1
  },
  {
   "cell_type": "code",
   "outputs": [],
   "source": [],
   "metadata": {
    "collapsed": false
   },
   "id": "aaa9db852e9cf533"
  }
 ],
 "metadata": {
  "kernelspec": {
   "display_name": "Python 3",
   "language": "python",
   "name": "python3"
  },
  "language_info": {
   "codemirror_mode": {
    "name": "ipython",
    "version": 2
   },
   "file_extension": ".py",
   "mimetype": "text/x-python",
   "name": "python",
   "nbconvert_exporter": "python",
   "pygments_lexer": "ipython2",
   "version": "2.7.6"
  }
 },
 "nbformat": 4,
 "nbformat_minor": 5
}

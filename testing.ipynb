{
 "cells": [
  {
   "cell_type": "code",
   "execution_count": 1,
   "id": "initial_id",
   "metadata": {
    "collapsed": true,
    "ExecuteTime": {
     "end_time": "2024-03-08T08:50:28.513313852Z",
     "start_time": "2024-03-08T08:50:28.512082167Z"
    }
   },
   "outputs": [],
   "source": [
    "from omegaconf import OmegaConf\n",
    "import sentencepiece\n"
   ]
  },
  {
   "cell_type": "code",
   "outputs": [],
   "source": [
    "conf = {'processed_path': \"./processed_data\", \"split\": \"train\", \"context_length\": 512, 'stride_big_sequences': 256, \"count_past_boards\": 2, \"in_memory\":False, 'target_types': [0, 1, 2, 3, 4]}\n",
    "oconf = OmegaConf.create(conf)"
   ],
   "metadata": {
    "collapsed": false,
    "ExecuteTime": {
     "end_time": "2024-03-08T08:50:28.646724459Z",
     "start_time": "2024-03-08T08:50:28.645865372Z"
    }
   },
   "id": "a751153eaea6eaa8",
   "execution_count": 2
  },
  {
   "cell_type": "code",
   "outputs": [],
   "source": [
    "sp = sentencepiece.SentencePieceProcessor(\"./artifacts/old/artifacts_old/artifacts/sp1000.model\")"
   ],
   "metadata": {
    "collapsed": false,
    "ExecuteTime": {
     "end_time": "2024-03-08T08:50:29.204061538Z",
     "start_time": "2024-03-08T08:50:29.200376691Z"
    }
   },
   "id": "4f72ef3a84d8a721",
   "execution_count": 3
  },
  {
   "cell_type": "code",
   "outputs": [],
   "source": [
    "from data.AlphazeroCommentaryDataset import AlphazeroCommentaryDataset"
   ],
   "metadata": {
    "collapsed": false,
    "ExecuteTime": {
     "end_time": "2024-03-08T08:50:31.453618401Z",
     "start_time": "2024-03-08T08:50:30.286320001Z"
    }
   },
   "id": "63b2d9fe859bb4e8",
   "execution_count": 4
  },
  {
   "cell_type": "code",
   "outputs": [],
   "source": [
    "ds = AlphazeroCommentaryDataset(oconf, sp)"
   ],
   "metadata": {
    "collapsed": false,
    "ExecuteTime": {
     "end_time": "2024-03-08T08:50:44.280443279Z",
     "start_time": "2024-03-08T08:50:31.454145084Z"
    }
   },
   "id": "9376c519753c201b",
   "execution_count": 5
  },
  {
   "cell_type": "code",
   "outputs": [],
   "source": [
    "from torch.nn.utils.rnn import pad_sequence\n",
    "import torch\n",
    "from torch.utils.data import DataLoader\n",
    "\n",
    "def collate_fn(data):\n",
    "    board_data = torch.stack(list(map(lambda x: x[0], data)))\n",
    "    sequences = pad_sequence(list(map(lambda x: x[1], data)), batch_first=True,\n",
    "                             padding_value=sp.pad_id())\n",
    "    types = torch.stack(list(map(lambda x: x[2], data)))\n",
    "    X_sequence = sequences[:, :-1]\n",
    "    y_sequence = sequences[:, 1:]\n",
    "    next_pad_mask = (y_sequence == sp.pad_id())\n",
    "    return board_data, X_sequence, y_sequence, next_pad_mask, types\n",
    "\n",
    "dl = DataLoader(\n",
    "            ds,\n",
    "            batch_size=128,\n",
    "            collate_fn=collate_fn,\n",
    "            num_workers=2\n",
    "        )"
   ],
   "metadata": {
    "collapsed": false,
    "ExecuteTime": {
     "end_time": "2024-03-08T08:50:44.283585556Z",
     "start_time": "2024-03-08T08:50:44.282272559Z"
    }
   },
   "id": "c6be03830c99a14",
   "execution_count": 6
  },
  {
   "cell_type": "code",
   "outputs": [
    {
     "name": "stderr",
     "output_type": "stream",
     "text": [
      "\u001B[34m\u001B[1mwandb\u001B[0m: Currently logged in as: \u001B[33mgeorgerapeanu\u001B[0m. Use \u001B[1m`wandb login --relogin`\u001B[0m to force relogin\n"
     ]
    },
    {
     "data": {
      "text/plain": "<IPython.core.display.HTML object>",
      "text/html": "wandb version 0.16.4 is available!  To upgrade, please run:\n $ pip install wandb --upgrade"
     },
     "metadata": {},
     "output_type": "display_data"
    },
    {
     "data": {
      "text/plain": "<IPython.core.display.HTML object>",
      "text/html": "Tracking run with wandb version 0.16.3"
     },
     "metadata": {},
     "output_type": "display_data"
    },
    {
     "data": {
      "text/plain": "<IPython.core.display.HTML object>",
      "text/html": "Run data is saved locally in <code>/home/georgerapeanu/Desktop/thesis/wandb/run-20240308_104016-7mpkfq49</code>"
     },
     "metadata": {},
     "output_type": "display_data"
    },
    {
     "data": {
      "text/plain": "<IPython.core.display.HTML object>",
      "text/html": "Syncing run <strong><a href='https://wandb.ai/georgerapeanu/thesis/runs/7mpkfq49' target=\"_blank\">solar-tree-275</a></strong> to <a href='https://wandb.ai/georgerapeanu/thesis' target=\"_blank\">Weights & Biases</a> (<a href='https://wandb.me/run' target=\"_blank\">docs</a>)<br/>"
     },
     "metadata": {},
     "output_type": "display_data"
    },
    {
     "data": {
      "text/plain": "<IPython.core.display.HTML object>",
      "text/html": " View project at <a href='https://wandb.ai/georgerapeanu/thesis' target=\"_blank\">https://wandb.ai/georgerapeanu/thesis</a>"
     },
     "metadata": {},
     "output_type": "display_data"
    },
    {
     "data": {
      "text/plain": "<IPython.core.display.HTML object>",
      "text/html": " View run at <a href='https://wandb.ai/georgerapeanu/thesis/runs/7mpkfq49' target=\"_blank\">https://wandb.ai/georgerapeanu/thesis/runs/7mpkfq49</a>"
     },
     "metadata": {},
     "output_type": "display_data"
    },
    {
     "name": "stderr",
     "output_type": "stream",
     "text": [
      "\u001B[34m\u001B[1mwandb\u001B[0m:   1 of 1 files downloaded.  \n"
     ]
    }
   ],
   "source": [
    "import wandb\n",
    "run = wandb.init()\n",
    "artifact = run.use_artifact('georgerapeanu/thesis/model_val_loss:v68', type='model')\n",
    "artifact_dir = artifact.download()"
   ],
   "metadata": {
    "collapsed": false,
    "ExecuteTime": {
     "end_time": "2024-03-08T08:40:23.470853528Z",
     "start_time": "2024-03-08T08:40:14.621071770Z"
    }
   },
   "id": "89f8401240da3d8a",
   "execution_count": 17
  },
  {
   "cell_type": "code",
   "outputs": [
    {
     "data": {
      "text/plain": "Model(\n  (board_preparation): Sequential(\n    (0): Conv2d(125, 256, kernel_size=(1, 1), stride=(1, 1), bias=False)\n    (1): BatchNorm2d(256, eps=1e-05, momentum=0.1, affine=True, track_running_stats=True)\n    (2): ReLU(inplace=True)\n  )\n  (emb): Embedding(1000, 256)\n  (pe_board): PositionalEncoding2D(\n    (Dropout): Dropout(p=0.1, inplace=False)\n  )\n  (pe_text): PositionalEncoding1D(\n    (Dropout): Dropout(p=0.1, inplace=False)\n  )\n  (encoders): ModuleList(\n    (0-5): 6 x TransformerEncoderBlock(\n      (mha): MultiheadAttention(\n        (out_proj): NonDynamicallyQuantizableLinear(in_features=256, out_features=256, bias=True)\n      )\n      (layer_norm1): LayerNorm((256,), eps=1e-05, elementwise_affine=True)\n      (feed_forward): Sequential(\n        (0): Linear(in_features=256, out_features=512, bias=True)\n        (1): ReLU(inplace=True)\n        (2): Linear(in_features=512, out_features=256, bias=True)\n      )\n      (layer_norm2): LayerNorm((256,), eps=1e-05, elementwise_affine=True)\n      (dropout): Dropout(p=0.1, inplace=False)\n    )\n  )\n  (decoders): ModuleList(\n    (0-5): 6 x TransformerDecoderBlock(\n      (mha1): MultiheadAttention(\n        (out_proj): NonDynamicallyQuantizableLinear(in_features=256, out_features=256, bias=True)\n      )\n      (layer_norm1): LayerNorm((256,), eps=1e-05, elementwise_affine=True)\n      (mha2): MultiheadAttention(\n        (out_proj): NonDynamicallyQuantizableLinear(in_features=256, out_features=256, bias=True)\n      )\n      (layer_norm2): LayerNorm((256,), eps=1e-05, elementwise_affine=True)\n      (feed_forward): Sequential(\n        (0): Linear(in_features=256, out_features=512, bias=True)\n        (1): ReLU(inplace=True)\n        (2): Linear(in_features=512, out_features=256, bias=True)\n      )\n      (layer_norm3): LayerNorm((256,), eps=1e-05, elementwise_affine=True)\n      (dropout): Dropout(p=0.1, inplace=False)\n    )\n  )\n  (linear): Linear(in_features=256, out_features=1000, bias=True)\n)"
     },
     "execution_count": 7,
     "metadata": {},
     "output_type": "execute_result"
    }
   ],
   "source": [
    "model = torch.load(\"./artifacts/model_val_loss:v68/model_save_val_loss_2.341321006943198\", map_location=torch.device(\"cpu\"))\n",
    "model.eval()"
   ],
   "metadata": {
    "collapsed": false,
    "ExecuteTime": {
     "end_time": "2024-03-08T08:50:45.029505174Z",
     "start_time": "2024-03-08T08:50:44.284867154Z"
    }
   },
   "id": "f75fdaad43afe981",
   "execution_count": 7
  },
  {
   "cell_type": "code",
   "outputs": [],
   "source": [
    "import random\n",
    "\n",
    "choices = random.sample(range(len(ds)), 10)\n",
    "to_predict = [ds[i] for i in choices]\n",
    "to_predict_metadata = [ds.get_raw_data(i) for i in choices]"
   ],
   "metadata": {
    "collapsed": false,
    "ExecuteTime": {
     "end_time": "2024-03-08T08:50:45.041249858Z",
     "start_time": "2024-03-08T08:50:45.030186072Z"
    }
   },
   "id": "54239634efd93054",
   "execution_count": 8
  },
  {
   "cell_type": "code",
   "outputs": [],
   "source": [
    "from model.predict import Predictor\n",
    "predictor = Predictor(512, sp)"
   ],
   "metadata": {
    "collapsed": false,
    "ExecuteTime": {
     "end_time": "2024-03-08T08:50:45.044474406Z",
     "start_time": "2024-03-08T08:50:45.041762044Z"
    }
   },
   "id": "e384604159196ce5",
   "execution_count": 9
  },
  {
   "cell_type": "code",
   "outputs": [
    {
     "name": "stdout",
     "output_type": "stream",
     "text": [
      "actual:Seems to have over-extended in his desire to open lines to the king. Ng6, aiming for Nf4 is more patient and better. You should get your pieces into position first, then attack.\n",
      "predicted:I wonder if this was much better. Then the added protection is to complicate white's own, manoeuvre vs. a4 seems better. But versus, has a plan to go, and play either quickly or to add the good support to the kingside attack. It's worth noting willing to push that pawn, but this will be a good attacking move and there are dynamic. Finishing viewed me had came in on.... I was alright as its feeling like all I had the need is illustrately... something didn't and I am badly bad, so I typically decided slowly-coverside pawns, that’s guarantees that you should ever get through the center after allowing any material, so White's pawn is on the open files. So, also it is already threatens as a discovered possibility and that should manage to initiate it.\n",
      "actual:I keep the pressure on the pawn\n",
      "predicted:Stillgar - now ready to advance my pawns. Now it's very weak. While the black bishop will not be able to the rook on b1 and then it will stop any promotion... Not how to stop it!!\n",
      "actual:And it was good to do so\n",
      "predicted:I am now a pawn up but winning the queen. His passed pawn is lost in.\n",
      "actual:So he checked. As I had less than 10 minutes left, I stopped recording now. I think the position is lost, but I didn't defend very well. He played g4 and I played Rb4 going after the pawn, and that let his king off the back rank, and he marched his king up and won very easily from here. Many thanks for reading, please leave a comment or two and rate the annotation on the star system.\n",
      "predicted:So hoping I take his knight, and get my pawn into the botttom bringing in the king to defend the f pawn.\n",
      "actual:my bishop is good... well he is good if i move my knight.. well i don't want to exchange because i am stuck in my \"plan\"\n",
      "predicted:Instead another, black aims to break hold on the center but the pawn would have been better defended.\n",
      "actual:Pinning the Knight to the Queen, to remove its support of e5.\n",
      "predicted:a decent move.\n",
      "actual:By moving his Rook to d4 and taking my knight. It was at this time I developed my bishop.\n",
      "predicted:This process feel safer than the unprotected c2. Instead, but we momentum is denied.\n",
      "actual:I proceeded with the typical 2.d5 for black\n",
      "predicted:Then we have to move 4 da4, or a4, where it can be removed from the center, and can trade R's light squared bishops.He are also it, now that his move would become a disadvantages. I would personently my opponent on with a4 and this is new to have joined in the center. Which can went up 1... 15. fxe4! wins, but still not bad. Another good strength and player (or will provide me playing g4 after 2...dxc4 - but if one, then Rxc2? very 'improves fight for the black, keeping multiple pawns on a lesser pieces that he can play Nd5) that is unstondered.\n",
      "actual:Black takes.\n",
      "predicted:This position is almost complete in the quickly space, for the c and c pawns. I wanted to play this but think that I just didn't actually look at all at the pawns.\n",
      "actual:Opening file for bishop, I suppose.\n",
      "predicted:maybe better would have been 10. e5, c3 ́s better\n"
     ]
    }
   ],
   "source": [
    "for ((X_board, y_tokens, _), (current_board, past_board, current_eval, past_eval)) in zip(to_predict,\n",
    "                                                                                                  to_predict_metadata):\n",
    "    predicted_text = predictor.predict(model, X_board, '', 1024)\n",
    "    actual_text = predictor.tokens_to_string(y_tokens)\n",
    "    print(\"actual:\" + actual_text)\n",
    "    print(\"predicted:\" + predicted_text)"
   ],
   "metadata": {
    "collapsed": false,
    "ExecuteTime": {
     "end_time": "2024-03-08T08:51:52.586262873Z",
     "start_time": "2024-03-08T08:51:43.176041087Z"
    }
   },
   "id": "f6138befd8e0c58c",
   "execution_count": 13
  },
  {
   "cell_type": "code",
   "outputs": [
    {
     "data": {
      "text/plain": "device(type='cpu')"
     },
     "execution_count": 12,
     "metadata": {},
     "output_type": "execute_result"
    }
   ],
   "source": [
    "torch.tensor([0]).device"
   ],
   "metadata": {
    "collapsed": false,
    "ExecuteTime": {
     "end_time": "2024-03-08T08:51:34.161159494Z",
     "start_time": "2024-03-08T08:51:34.157584873Z"
    }
   },
   "id": "94f898fed477fdb6",
   "execution_count": 12
  },
  {
   "cell_type": "code",
   "outputs": [
    {
     "data": {
      "text/plain": "model.commentary_models.Model"
     },
     "execution_count": 16,
     "metadata": {},
     "output_type": "execute_result"
    }
   ],
   "source": [
    "type(model)"
   ],
   "metadata": {
    "collapsed": false,
    "ExecuteTime": {
     "end_time": "2024-03-08T08:48:35.076860966Z",
     "start_time": "2024-03-08T08:48:35.073051445Z"
    }
   },
   "id": "ba87e56ff7f5e114",
   "execution_count": 16
  },
  {
   "cell_type": "code",
   "outputs": [
    {
     "data": {
      "text/plain": "True"
     },
     "execution_count": 17,
     "metadata": {},
     "output_type": "execute_result"
    }
   ],
   "source": [
    "isinstance(model, torch.nn.Module)"
   ],
   "metadata": {
    "collapsed": false,
    "ExecuteTime": {
     "end_time": "2024-03-08T08:48:43.426237072Z",
     "start_time": "2024-03-08T08:48:43.416354855Z"
    }
   },
   "id": "58ed22240225fc65",
   "execution_count": 17
  },
  {
   "cell_type": "code",
   "outputs": [],
   "source": [],
   "metadata": {
    "collapsed": false
   },
   "id": "cfc0639c5c2ada6"
  }
 ],
 "metadata": {
  "kernelspec": {
   "display_name": "Python 3",
   "language": "python",
   "name": "python3"
  },
  "language_info": {
   "codemirror_mode": {
    "name": "ipython",
    "version": 2
   },
   "file_extension": ".py",
   "mimetype": "text/x-python",
   "name": "python",
   "nbconvert_exporter": "python",
   "pygments_lexer": "ipython2",
   "version": "2.7.6"
  }
 },
 "nbformat": 4,
 "nbformat_minor": 5
}
